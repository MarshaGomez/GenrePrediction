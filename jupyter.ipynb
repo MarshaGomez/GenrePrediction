{
 "cells": [
  {
   "cell_type": "code",
   "execution_count": 6,
   "metadata": {
    "scrolled": true
   },
   "outputs": [
    {
     "data": {
      "text/html": [
       "<div>\n",
       "<style scoped>\n",
       "    .dataframe tbody tr th:only-of-type {\n",
       "        vertical-align: middle;\n",
       "    }\n",
       "\n",
       "    .dataframe tbody tr th {\n",
       "        vertical-align: top;\n",
       "    }\n",
       "\n",
       "    .dataframe thead th {\n",
       "        text-align: right;\n",
       "    }\n",
       "</style>\n",
       "<table border=\"1\" class=\"dataframe\">\n",
       "  <thead>\n",
       "    <tr style=\"text-align: right;\">\n",
       "      <th></th>\n",
       "      <th>id</th>\n",
       "      <th>name</th>\n",
       "      <th>description</th>\n",
       "      <th>genres</th>\n",
       "    </tr>\n",
       "  </thead>\n",
       "  <tbody>\n",
       "    <tr>\n",
       "      <th>0</th>\n",
       "      <td>id</td>\n",
       "      <td>name</td>\n",
       "      <td>descr</td>\n",
       "      <td>genres</td>\n",
       "    </tr>\n",
       "    <tr>\n",
       "      <th>1</th>\n",
       "      <td>28310</td>\n",
       "      <td>0 day Attack on Earth</td>\n",
       "      <td>seven days that will determine the fate of humanity now begin high tech tokyo is in rubble the once vibrant new york ground to a halt and the city of lights paris enveloped by darkness and despair join mankind s struggle against massive invaders as they converge on the world s major cities in ba...</td>\n",
       "      <td>['Shooter']</td>\n",
       "    </tr>\n",
       "    <tr>\n",
       "      <th>2</th>\n",
       "      <td>10235</td>\n",
       "      <td>0 Day</td>\n",
       "      <td>freedom of movement with flight touch pad and teleportation move through the city hunting down your enemies with a growing assortment of weapons from home made spears to assault rifles sneak up on armed targets to catch them off guard or maneuver at full speed around bullets and bat their head o...</td>\n",
       "      <td>['Action', 'Adventure', 'Strategy', 'Indie']</td>\n",
       "    </tr>\n",
       "    <tr>\n",
       "      <th>3</th>\n",
       "      <td>386925</td>\n",
       "      <td>0 Hour Meltdown</td>\n",
       "      <td>built for the hour game jam your power plant is in meltdown turn everything off to try to stop the meltdown timer</td>\n",
       "      <td>['Puzzle']</td>\n",
       "    </tr>\n",
       "    <tr>\n",
       "      <th>4</th>\n",
       "      <td>381643</td>\n",
       "      <td>0 Lives left</td>\n",
       "      <td>how do you play a game with lives left no controls no cloths and no tutorial</td>\n",
       "      <td>['Platformer']</td>\n",
       "    </tr>\n",
       "  </tbody>\n",
       "</table>\n",
       "</div>"
      ],
      "text/plain": [
       "       id                   name  \\\n",
       "0      id                   name   \n",
       "1   28310  0 day Attack on Earth   \n",
       "2   10235                  0 Day   \n",
       "3  386925        0 Hour Meltdown   \n",
       "4  381643           0 Lives left   \n",
       "\n",
       "                                                                                                                                                                                                                                                                                                   description  \\\n",
       "0                                                                                                                                                                                                                                                                                                        descr   \n",
       "1  seven days that will determine the fate of humanity now begin high tech tokyo is in rubble the once vibrant new york ground to a halt and the city of lights paris enveloped by darkness and despair join mankind s struggle against massive invaders as they converge on the world s major cities in ba...   \n",
       "2  freedom of movement with flight touch pad and teleportation move through the city hunting down your enemies with a growing assortment of weapons from home made spears to assault rifles sneak up on armed targets to catch them off guard or maneuver at full speed around bullets and bat their head o...   \n",
       "3                                                                                                                                                                                            built for the hour game jam your power plant is in meltdown turn everything off to try to stop the meltdown timer   \n",
       "4                                                                                                                                                                                                                                 how do you play a game with lives left no controls no cloths and no tutorial   \n",
       "\n",
       "                                         genres  \n",
       "0                                        genres  \n",
       "1                                   ['Shooter']  \n",
       "2  ['Action', 'Adventure', 'Strategy', 'Indie']  \n",
       "3                                    ['Puzzle']  \n",
       "4                                ['Platformer']  "
      ]
     },
     "execution_count": 6,
     "metadata": {},
     "output_type": "execute_result"
    }
   ],
   "source": [
    "import rawgpy\n",
    "import time\n",
    "import json\n",
    "import urllib.request\n",
    "from nt import listdir\n",
    "import os\n",
    "import re\n",
    "from os import path\n",
    "import pandas as pd\n",
    "import numpy as np\n",
    "import nltk\n",
    "import csv\n",
    "import matplotlib.pyplot as plt \n",
    "import seaborn as sns\n",
    "from tqdm import tqdm\n",
    "from sklearn.feature_extraction.text import TfidfVectorizer\n",
    "from sklearn.model_selection import train_test_split\n",
    "\n",
    "\n",
    "pd.set_option('display.max_colwidth', 300)\n",
    "meta = pd.read_csv(\"games3.csv\", sep = ',' , header = None)\n",
    "\n",
    "meta.columns = [\"id\",\"name\",\"description\",\"genres\"]\n",
    "meta.head()"
   ]
  },
  {
   "cell_type": "code",
   "execution_count": 7,
   "metadata": {},
   "outputs": [
    {
     "data": {
      "text/html": [
       "<div>\n",
       "<style scoped>\n",
       "    .dataframe tbody tr th:only-of-type {\n",
       "        vertical-align: middle;\n",
       "    }\n",
       "\n",
       "    .dataframe tbody tr th {\n",
       "        vertical-align: top;\n",
       "    }\n",
       "\n",
       "    .dataframe thead th {\n",
       "        text-align: right;\n",
       "    }\n",
       "</style>\n",
       "<table border=\"1\" class=\"dataframe\">\n",
       "  <thead>\n",
       "    <tr style=\"text-align: right;\">\n",
       "      <th></th>\n",
       "      <th>id</th>\n",
       "      <th>name</th>\n",
       "      <th>description</th>\n",
       "      <th>genres</th>\n",
       "    </tr>\n",
       "  </thead>\n",
       "  <tbody>\n",
       "    <tr>\n",
       "      <th>0</th>\n",
       "      <td>id</td>\n",
       "      <td>name</td>\n",
       "      <td>descr</td>\n",
       "      <td>genres</td>\n",
       "    </tr>\n",
       "    <tr>\n",
       "      <th>1</th>\n",
       "      <td>28310</td>\n",
       "      <td>0 day Attack on Earth</td>\n",
       "      <td>seven days that will determine the fate of humanity now begin high tech tokyo is in rubble the once vibrant new york ground to a halt and the city of lights paris enveloped by darkness and despair join mankind s struggle against massive invaders as they converge on the world s major cities in ba...</td>\n",
       "      <td>['Shooter']</td>\n",
       "    </tr>\n",
       "    <tr>\n",
       "      <th>2</th>\n",
       "      <td>10235</td>\n",
       "      <td>0 Day</td>\n",
       "      <td>freedom of movement with flight touch pad and teleportation move through the city hunting down your enemies with a growing assortment of weapons from home made spears to assault rifles sneak up on armed targets to catch them off guard or maneuver at full speed around bullets and bat their head o...</td>\n",
       "      <td>['Action', 'Adventure', 'Strategy', 'Indie']</td>\n",
       "    </tr>\n",
       "    <tr>\n",
       "      <th>3</th>\n",
       "      <td>386925</td>\n",
       "      <td>0 Hour Meltdown</td>\n",
       "      <td>built for the hour game jam your power plant is in meltdown turn everything off to try to stop the meltdown timer</td>\n",
       "      <td>['Puzzle']</td>\n",
       "    </tr>\n",
       "    <tr>\n",
       "      <th>4</th>\n",
       "      <td>381643</td>\n",
       "      <td>0 Lives left</td>\n",
       "      <td>how do you play a game with lives left no controls no cloths and no tutorial</td>\n",
       "      <td>['Platformer']</td>\n",
       "    </tr>\n",
       "  </tbody>\n",
       "</table>\n",
       "</div>"
      ],
      "text/plain": [
       "       id                   name  \\\n",
       "0      id                   name   \n",
       "1   28310  0 day Attack on Earth   \n",
       "2   10235                  0 Day   \n",
       "3  386925        0 Hour Meltdown   \n",
       "4  381643           0 Lives left   \n",
       "\n",
       "                                                                                                                                                                                                                                                                                                   description  \\\n",
       "0                                                                                                                                                                                                                                                                                                        descr   \n",
       "1  seven days that will determine the fate of humanity now begin high tech tokyo is in rubble the once vibrant new york ground to a halt and the city of lights paris enveloped by darkness and despair join mankind s struggle against massive invaders as they converge on the world s major cities in ba...   \n",
       "2  freedom of movement with flight touch pad and teleportation move through the city hunting down your enemies with a growing assortment of weapons from home made spears to assault rifles sneak up on armed targets to catch them off guard or maneuver at full speed around bullets and bat their head o...   \n",
       "3                                                                                                                                                                                            built for the hour game jam your power plant is in meltdown turn everything off to try to stop the meltdown timer   \n",
       "4                                                                                                                                                                                                                                 how do you play a game with lives left no controls no cloths and no tutorial   \n",
       "\n",
       "                                         genres  \n",
       "0                                        genres  \n",
       "1                                   ['Shooter']  \n",
       "2  ['Action', 'Adventure', 'Strategy', 'Indie']  \n",
       "3                                    ['Puzzle']  \n",
       "4                                ['Platformer']  "
      ]
     },
     "execution_count": 7,
     "metadata": {},
     "output_type": "execute_result"
    }
   ],
   "source": [
    "games = pd.DataFrame(meta)\n",
    "games.head()"
   ]
  },
  {
   "cell_type": "code",
   "execution_count": 8,
   "metadata": {},
   "outputs": [
    {
     "data": {
      "text/plain": [
       "(3502, 5)"
      ]
     },
     "execution_count": 8,
     "metadata": {},
     "output_type": "execute_result"
    }
   ],
   "source": [
    "genres = [] \n",
    "genres1 = [] \n",
    "s1= ['']\n",
    "# extract genres\n",
    "for i in games['genres']: \n",
    "    a = list(i.replace(\"]\",'').replace('[','').replace(\"'\",'').replace(' ','').split(\",\"))\n",
    "    if a == s1:\n",
    "        genres.append(' ') \n",
    "    else:\n",
    "        genres.append(a)\n",
    "        genres1.append(a)\n",
    "\n",
    "# add to 'movies' dataframe  \n",
    "games['genre_new'] = genres\n",
    "games.shape"
   ]
  },
  {
   "cell_type": "code",
   "execution_count": 9,
   "metadata": {},
   "outputs": [
    {
     "data": {
      "text/html": [
       "<div>\n",
       "<style scoped>\n",
       "    .dataframe tbody tr th:only-of-type {\n",
       "        vertical-align: middle;\n",
       "    }\n",
       "\n",
       "    .dataframe tbody tr th {\n",
       "        vertical-align: top;\n",
       "    }\n",
       "\n",
       "    .dataframe thead th {\n",
       "        text-align: right;\n",
       "    }\n",
       "</style>\n",
       "<table border=\"1\" class=\"dataframe\">\n",
       "  <thead>\n",
       "    <tr style=\"text-align: right;\">\n",
       "      <th></th>\n",
       "      <th>id</th>\n",
       "      <th>name</th>\n",
       "      <th>description</th>\n",
       "      <th>genres</th>\n",
       "      <th>genre_new</th>\n",
       "    </tr>\n",
       "  </thead>\n",
       "  <tbody>\n",
       "    <tr>\n",
       "      <th>0</th>\n",
       "      <td>id</td>\n",
       "      <td>name</td>\n",
       "      <td>descr</td>\n",
       "      <td>genres</td>\n",
       "      <td>[genres]</td>\n",
       "    </tr>\n",
       "    <tr>\n",
       "      <th>1</th>\n",
       "      <td>28310</td>\n",
       "      <td>0 day Attack on Earth</td>\n",
       "      <td>seven days that will determine the fate of humanity now begin high tech tokyo is in rubble the once vibrant new york ground to a halt and the city of lights paris enveloped by darkness and despair join mankind s struggle against massive invaders as they converge on the world s major cities in ba...</td>\n",
       "      <td>['Shooter']</td>\n",
       "      <td>[Shooter]</td>\n",
       "    </tr>\n",
       "    <tr>\n",
       "      <th>2</th>\n",
       "      <td>10235</td>\n",
       "      <td>0 Day</td>\n",
       "      <td>freedom of movement with flight touch pad and teleportation move through the city hunting down your enemies with a growing assortment of weapons from home made spears to assault rifles sneak up on armed targets to catch them off guard or maneuver at full speed around bullets and bat their head o...</td>\n",
       "      <td>['Action', 'Adventure', 'Strategy', 'Indie']</td>\n",
       "      <td>[Action, Adventure, Strategy, Indie]</td>\n",
       "    </tr>\n",
       "    <tr>\n",
       "      <th>3</th>\n",
       "      <td>386925</td>\n",
       "      <td>0 Hour Meltdown</td>\n",
       "      <td>built for the hour game jam your power plant is in meltdown turn everything off to try to stop the meltdown timer</td>\n",
       "      <td>['Puzzle']</td>\n",
       "      <td>[Puzzle]</td>\n",
       "    </tr>\n",
       "    <tr>\n",
       "      <th>4</th>\n",
       "      <td>381643</td>\n",
       "      <td>0 Lives left</td>\n",
       "      <td>how do you play a game with lives left no controls no cloths and no tutorial</td>\n",
       "      <td>['Platformer']</td>\n",
       "      <td>[Platformer]</td>\n",
       "    </tr>\n",
       "  </tbody>\n",
       "</table>\n",
       "</div>"
      ],
      "text/plain": [
       "       id                   name  \\\n",
       "0      id                   name   \n",
       "1   28310  0 day Attack on Earth   \n",
       "2   10235                  0 Day   \n",
       "3  386925        0 Hour Meltdown   \n",
       "4  381643           0 Lives left   \n",
       "\n",
       "                                                                                                                                                                                                                                                                                                   description  \\\n",
       "0                                                                                                                                                                                                                                                                                                        descr   \n",
       "1  seven days that will determine the fate of humanity now begin high tech tokyo is in rubble the once vibrant new york ground to a halt and the city of lights paris enveloped by darkness and despair join mankind s struggle against massive invaders as they converge on the world s major cities in ba...   \n",
       "2  freedom of movement with flight touch pad and teleportation move through the city hunting down your enemies with a growing assortment of weapons from home made spears to assault rifles sneak up on armed targets to catch them off guard or maneuver at full speed around bullets and bat their head o...   \n",
       "3                                                                                                                                                                                            built for the hour game jam your power plant is in meltdown turn everything off to try to stop the meltdown timer   \n",
       "4                                                                                                                                                                                                                                 how do you play a game with lives left no controls no cloths and no tutorial   \n",
       "\n",
       "                                         genres  \\\n",
       "0                                        genres   \n",
       "1                                   ['Shooter']   \n",
       "2  ['Action', 'Adventure', 'Strategy', 'Indie']   \n",
       "3                                    ['Puzzle']   \n",
       "4                                ['Platformer']   \n",
       "\n",
       "                              genre_new  \n",
       "0                              [genres]  \n",
       "1                             [Shooter]  \n",
       "2  [Action, Adventure, Strategy, Indie]  \n",
       "3                              [Puzzle]  \n",
       "4                          [Platformer]  "
      ]
     },
     "execution_count": 9,
     "metadata": {},
     "output_type": "execute_result"
    }
   ],
   "source": [
    "games_new =  games[~(games['genre_new'] == ' ')]\n",
    "games_new.head()"
   ]
  },
  {
   "cell_type": "code",
   "execution_count": 10,
   "metadata": {},
   "outputs": [
    {
     "data": {
      "text/plain": [
       "((2914, 5), (3502, 5))"
      ]
     },
     "execution_count": 10,
     "metadata": {},
     "output_type": "execute_result"
    }
   ],
   "source": [
    "games_new.shape, games.shape"
   ]
  },
  {
   "cell_type": "code",
   "execution_count": 11,
   "metadata": {},
   "outputs": [
    {
     "name": "stdout",
     "output_type": "stream",
     "text": [
      "20\n"
     ]
    }
   ],
   "source": [
    "all_genres = sum(genres1,[])\n",
    "\n",
    "\n",
    "print(len(set(all_genres)))"
   ]
  },
  {
   "cell_type": "code",
   "execution_count": 12,
   "metadata": {},
   "outputs": [],
   "source": [
    "all_genres = nltk.FreqDist(all_genres) \n",
    "\n",
    "# create dataframe\n",
    "all_genres_df = pd.DataFrame({'Genre': list(all_genres.keys()), \n",
    "                              'Count': list(all_genres.values())})"
   ]
  },
  {
   "cell_type": "code",
   "execution_count": 37,
   "metadata": {},
   "outputs": [
    {
     "data": {
      "image/png": "[encoded data removed]",
      "text/plain": [
       "<Figure size 864x1080 with 1 Axes>"
      ]
     },
     "metadata": {
      "needs_background": "light"
     },
     "output_type": "display_data"
    }
   ],
   "source": [
    "g = all_genres_df.nlargest(columns=\"Count\", n = 50) \n",
    "plt.figure(figsize=(12,15)) \n",
    "ax = sns.barplot(data=g, x= \"Count\", y = \"Genre\") \n",
    "ax.set(ylabel = 'Count') \n",
    "plt.show()"
   ]
  },
  {
   "cell_type": "code",
   "execution_count": null,
   "metadata": {},
   "outputs": [],
   "source": []
  },
  {
   "cell_type": "code",
   "execution_count": null,
   "metadata": {},
   "outputs": [],
   "source": []
  },
  {
   "cell_type": "code",
   "execution_count": null,
   "metadata": {},
   "outputs": [],
   "source": []
  },
  {
   "cell_type": "code",
   "execution_count": null,
   "metadata": {},
   "outputs": [],
   "source": []
  }
 ],
 "metadata": {
  "kernelspec": {
   "display_name": "Python 3",
   "language": "python",
   "name": "python3"
  },
  "language_info": {
   "codemirror_mode": {
    "name": "ipython",
    "version": 3
   },
   "file_extension": ".py",
   "mimetype": "text/x-python",
   "name": "python",
   "nbconvert_exporter": "python",
   "pygments_lexer": "ipython3",
   "version": "3.7.5"
  }
 },
 "nbformat": 4,
 "nbformat_minor": 4
}
