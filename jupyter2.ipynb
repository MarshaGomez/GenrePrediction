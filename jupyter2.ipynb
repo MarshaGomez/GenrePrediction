{
 "cells": [
  {
   "cell_type": "code",
   "execution_count": 1,
   "metadata": {},
   "outputs": [
    {
     "data": {
      "text/html": "<div>\n<style scoped>\n    .dataframe tbody tr th:only-of-type {\n        vertical-align: middle;\n    }\n\n    .dataframe tbody tr th {\n        vertical-align: top;\n    }\n\n    .dataframe thead th {\n        text-align: right;\n    }\n</style>\n<table border=\"1\" class=\"dataframe\">\n  <thead>\n    <tr style=\"text-align: right;\">\n      <th></th>\n      <th>id</th>\n      <th>name</th>\n      <th>description</th>\n      <th>genres</th>\n    </tr>\n  </thead>\n  <tbody>\n    <tr>\n      <th>0</th>\n      <td>id</td>\n      <td>name</td>\n      <td>descr</td>\n      <td>genres</td>\n    </tr>\n    <tr>\n      <th>1</th>\n      <td>arth</td>\n      <td>seven day determin fate human begin high tech tokyo rubbl vibrant new york ground halt citi light pari envelop dark despair join mankind struggl massiv invad converg world major citi battl set actual area modern metropolitan citi take flight one futurist aircraft help repel humong enemi stage co...</td>\n      <td>['Shooter']</td>\n      <td>NaN</td>\n    </tr>\n    <tr>\n      <th>2</th>\n      <td>10235</td>\n      <td>0 day</td>\n      <td>freedom movement flight touch pad teleport move citi hunt enemi grow assort weapon home made spear assault rifl sneak arm target catch guard maneuv full speed around bullet bat head distanc take back control citi terrorist infect help shape game give feedback work make game want encourag read ea...</td>\n      <td>['Action', 'Adventure', 'Strategy']</td>\n    </tr>\n    <tr>\n      <th>3</th>\n      <td>386925</td>\n      <td>0 hour meltdown</td>\n      <td>built hour game jam power plant meltdown turn everyth tri stop meltdown timer</td>\n      <td>['Puzzle']</td>\n    </tr>\n    <tr>\n      <th>4</th>\n      <td>379914</td>\n      <td>0 robert blaster391 arnold</td>\n      <td>puzzl platform start control vision made hour ludum dare game jam theme start noth</td>\n      <td>['Puzzle']</td>\n    </tr>\n  </tbody>\n</table>\n</div>",
      "text/plain": "       id  \\\n0      id   \n1    arth   \n2   10235   \n3  386925   \n4  379914   \n\n                                                                                                                                                                                                                                                                                                          name  \\\n0                                                                                                                                                                                                                                                                                                         name   \n1  seven day determin fate human begin high tech tokyo rubbl vibrant new york ground halt citi light pari envelop dark despair join mankind struggl massiv invad converg world major citi battl set actual area modern metropolitan citi take flight one futurist aircraft help repel humong enemi stage co...   \n2                                                                                                                                                                                                                                                                                                        0 day   \n3                                                                                                                                                                                                                                                                                              0 hour meltdown   \n4                                                                                                                                                                                                                                                                                   0 robert blaster391 arnold   \n\n                                                                                                                                                                                                                                                                                                   description  \\\n0                                                                                                                                                                                                                                                                                                        descr   \n1                                                                                                                                                                                                                                                                                                  ['Shooter']   \n2  freedom movement flight touch pad teleport move citi hunt enemi grow assort weapon home made spear assault rifl sneak arm target catch guard maneuv full speed around bullet bat head distanc take back control citi terrorist infect help shape game give feedback work make game want encourag read ea...   \n3                                                                                                                                                                                                                                built hour game jam power plant meltdown turn everyth tri stop meltdown timer   \n4                                                                                                                                                                                                                           puzzl platform start control vision made hour ludum dare game jam theme start noth   \n\n                                genres  \n0                               genres  \n1                                  NaN  \n2  ['Action', 'Adventure', 'Strategy']  \n3                           ['Puzzle']  \n4                           ['Puzzle']  "
     },
     "execution_count": 1,
     "metadata": {},
     "output_type": "execute_result"
    }
   ],
   "source": [
    "import rawgpy\n",
    "import time\n",
    "import json\n",
    "import urllib.request\n",
    "from nt import listdir\n",
    "import os\n",
    "import re\n",
    "from os import path\n",
    "import pandas as pd\n",
    "import numpy as np\n",
    "import nltk\n",
    "import csv\n",
    "import matplotlib.pyplot as plt \n",
    "import seaborn as sns\n",
    "from tqdm import tqdm\n",
    "from sklearn.feature_extraction.text import TfidfVectorizer\n",
    "from sklearn.model_selection import train_test_split\n",
    "from sklearn.preprocessing import MultiLabelBinarizer\n",
    "from sklearn.linear_model import LogisticRegression\n",
    "# Binary Relevance\n",
    "from sklearn.multiclass import OneVsRestClassifier\n",
    "# Performance metric\n",
    "from sklearn.metrics import f1_score\n",
    "\n",
    "\n",
    "pd.set_option('display.max_colwidth', 300)\n",
    "meta = pd.read_csv(\"C:/Users/Matilde/Desktop/GitHub/datamin/genrePrediction/gameClean.csv\", sep = ',' , header = None)\n",
    "\n",
    "meta.columns = [\"id\",\"name\",\"description\",\"genres\"]\n",
    "meta.head()"
   ]
  },
  {
   "cell_type": "code",
   "execution_count": 2,
   "metadata": {},
   "outputs": [
    {
     "data": {
      "text/html": "<div>\n<style scoped>\n    .dataframe tbody tr th:only-of-type {\n        vertical-align: middle;\n    }\n\n    .dataframe tbody tr th {\n        vertical-align: top;\n    }\n\n    .dataframe thead th {\n        text-align: right;\n    }\n</style>\n<table border=\"1\" class=\"dataframe\">\n  <thead>\n    <tr style=\"text-align: right;\">\n      <th></th>\n      <th>id</th>\n      <th>name</th>\n      <th>description</th>\n      <th>genres</th>\n    </tr>\n  </thead>\n  <tbody>\n    <tr>\n      <th>0</th>\n      <td>id</td>\n      <td>name</td>\n      <td>descr</td>\n      <td>genres</td>\n    </tr>\n    <tr>\n      <th>1</th>\n      <td>arth</td>\n      <td>seven day determin fate human begin high tech tokyo rubbl vibrant new york ground halt citi light pari envelop dark despair join mankind struggl massiv invad converg world major citi battl set actual area modern metropolitan citi take flight one futurist aircraft help repel humong enemi stage co...</td>\n      <td>['Shooter']</td>\n      <td>NaN</td>\n    </tr>\n    <tr>\n      <th>2</th>\n      <td>10235</td>\n      <td>0 day</td>\n      <td>freedom movement flight touch pad teleport move citi hunt enemi grow assort weapon home made spear assault rifl sneak arm target catch guard maneuv full speed around bullet bat head distanc take back control citi terrorist infect help shape game give feedback work make game want encourag read ea...</td>\n      <td>['Action', 'Adventure', 'Strategy']</td>\n    </tr>\n    <tr>\n      <th>3</th>\n      <td>386925</td>\n      <td>0 hour meltdown</td>\n      <td>built hour game jam power plant meltdown turn everyth tri stop meltdown timer</td>\n      <td>['Puzzle']</td>\n    </tr>\n    <tr>\n      <th>4</th>\n      <td>379914</td>\n      <td>0 robert blaster391 arnold</td>\n      <td>puzzl platform start control vision made hour ludum dare game jam theme start noth</td>\n      <td>['Puzzle']</td>\n    </tr>\n  </tbody>\n</table>\n</div>",
      "text/plain": "       id  \\\n0      id   \n1    arth   \n2   10235   \n3  386925   \n4  379914   \n\n                                                                                                                                                                                                                                                                                                          name  \\\n0                                                                                                                                                                                                                                                                                                         name   \n1  seven day determin fate human begin high tech tokyo rubbl vibrant new york ground halt citi light pari envelop dark despair join mankind struggl massiv invad converg world major citi battl set actual area modern metropolitan citi take flight one futurist aircraft help repel humong enemi stage co...   \n2                                                                                                                                                                                                                                                                                                        0 day   \n3                                                                                                                                                                                                                                                                                              0 hour meltdown   \n4                                                                                                                                                                                                                                                                                   0 robert blaster391 arnold   \n\n                                                                                                                                                                                                                                                                                                   description  \\\n0                                                                                                                                                                                                                                                                                                        descr   \n1                                                                                                                                                                                                                                                                                                  ['Shooter']   \n2  freedom movement flight touch pad teleport move citi hunt enemi grow assort weapon home made spear assault rifl sneak arm target catch guard maneuv full speed around bullet bat head distanc take back control citi terrorist infect help shape game give feedback work make game want encourag read ea...   \n3                                                                                                                                                                                                                                built hour game jam power plant meltdown turn everyth tri stop meltdown timer   \n4                                                                                                                                                                                                                           puzzl platform start control vision made hour ludum dare game jam theme start noth   \n\n                                genres  \n0                               genres  \n1                                  NaN  \n2  ['Action', 'Adventure', 'Strategy']  \n3                           ['Puzzle']  \n4                           ['Puzzle']  "
     },
     "execution_count": 2,
     "metadata": {},
     "output_type": "execute_result"
    }
   ],
   "source": [
    "games = pd.DataFrame(meta)\n",
    "games.head()"
   ]
  },
  {
   "cell_type": "code",
   "execution_count": 3,
   "metadata": {},
   "outputs": [
    {
     "ename": "AttributeError",
     "evalue": "'float' object has no attribute 'replace'",
     "output_type": "error",
     "traceback": [
      "\u001b[1;31m---------------------------------------------------------------------------\u001b[0m",
      "\u001b[1;31mAttributeError\u001b[0m                            Traceback (most recent call last)",
      "\u001b[1;32m<ipython-input-3-750d420e11df>\u001b[0m in \u001b[0;36m<module>\u001b[1;34m\u001b[0m\n\u001b[0;32m      4\u001b[0m \u001b[1;31m# extract genres\u001b[0m\u001b[1;33m\u001b[0m\u001b[1;33m\u001b[0m\u001b[1;33m\u001b[0m\u001b[0m\n\u001b[0;32m      5\u001b[0m \u001b[1;32mfor\u001b[0m \u001b[0mi\u001b[0m \u001b[1;32min\u001b[0m \u001b[0mgames\u001b[0m\u001b[1;33m[\u001b[0m\u001b[1;34m'genres'\u001b[0m\u001b[1;33m]\u001b[0m\u001b[1;33m:\u001b[0m\u001b[1;33m\u001b[0m\u001b[1;33m\u001b[0m\u001b[0m\n\u001b[1;32m----> 6\u001b[1;33m     \u001b[0ma\u001b[0m \u001b[1;33m=\u001b[0m \u001b[0mlist\u001b[0m\u001b[1;33m(\u001b[0m\u001b[0mi\u001b[0m\u001b[1;33m.\u001b[0m\u001b[0mreplace\u001b[0m\u001b[1;33m(\u001b[0m\u001b[1;34m\"]\"\u001b[0m\u001b[1;33m,\u001b[0m\u001b[1;34m''\u001b[0m\u001b[1;33m)\u001b[0m\u001b[1;33m.\u001b[0m\u001b[0mreplace\u001b[0m\u001b[1;33m(\u001b[0m\u001b[1;34m'['\u001b[0m\u001b[1;33m,\u001b[0m\u001b[1;34m''\u001b[0m\u001b[1;33m)\u001b[0m\u001b[1;33m.\u001b[0m\u001b[0mreplace\u001b[0m\u001b[1;33m(\u001b[0m\u001b[1;34m\"'\"\u001b[0m\u001b[1;33m,\u001b[0m\u001b[1;34m''\u001b[0m\u001b[1;33m)\u001b[0m\u001b[1;33m.\u001b[0m\u001b[0mreplace\u001b[0m\u001b[1;33m(\u001b[0m\u001b[1;34m' '\u001b[0m\u001b[1;33m,\u001b[0m\u001b[1;34m''\u001b[0m\u001b[1;33m)\u001b[0m\u001b[1;33m.\u001b[0m\u001b[0msplit\u001b[0m\u001b[1;33m(\u001b[0m\u001b[1;34m\",\"\u001b[0m\u001b[1;33m)\u001b[0m\u001b[1;33m)\u001b[0m\u001b[1;33m\u001b[0m\u001b[1;33m\u001b[0m\u001b[0m\n\u001b[0m\u001b[0;32m      7\u001b[0m     \u001b[1;32mif\u001b[0m \u001b[0ma\u001b[0m \u001b[1;33m==\u001b[0m \u001b[0ms1\u001b[0m\u001b[1;33m:\u001b[0m\u001b[1;33m\u001b[0m\u001b[1;33m\u001b[0m\u001b[0m\n\u001b[0;32m      8\u001b[0m         \u001b[0mgenres\u001b[0m\u001b[1;33m.\u001b[0m\u001b[0mappend\u001b[0m\u001b[1;33m(\u001b[0m\u001b[1;34m' '\u001b[0m\u001b[1;33m)\u001b[0m\u001b[1;33m\u001b[0m\u001b[1;33m\u001b[0m\u001b[0m\n",
      "\u001b[1;31mAttributeError\u001b[0m: 'float' object has no attribute 'replace'"
     ]
    }
   ],
   "source": [
    "genres = [] \n",
    "genres1 = [] \n",
    "s1= ['']\n",
    "# extract genres\n",
    "for i in games['genres']: \n",
    "    a = list(i.replace(\"]\",'').replace('[','').replace(\"'\",'').replace(' ','').split(\",\"))\n",
    "    if a == s1:\n",
    "        genres.append(' ') \n",
    "    else:\n",
    "        genres.append(a)\n",
    "        genres1.append(a)\n",
    "\n",
    "# add to 'movies' dataframe  \n",
    "games['genre_new'] = genres\n",
    "games.shape"
   ]
  },
  {
   "cell_type": "code",
   "execution_count": 0,
   "metadata": {},
   "outputs": [],
   "source": [
    "games_new =  games[~(games['genre_new'] == ' ')]\n",
    "games_new.head(1000)"
   ]
  },
  {
   "cell_type": "code",
   "execution_count": 0,
   "metadata": {},
   "outputs": [],
   "source": [
    "games_new.shape, games.shape"
   ]
  },
  {
   "cell_type": "code",
   "execution_count": 0,
   "metadata": {},
   "outputs": [],
   "source": [
    "all_genres = sum(genres1,[])\n",
    "\n",
    "\n",
    "print(len(set(all_genres)))"
   ]
  },
  {
   "cell_type": "code",
   "execution_count": 0,
   "metadata": {},
   "outputs": [],
   "source": [
    "all_genres = nltk.FreqDist(all_genres) \n",
    "\n",
    "# create dataframe\n",
    "all_genres_df = pd.DataFrame({'Genre': list(all_genres.keys()), \n",
    "                              'Count': list(all_genres.values())})\n",
    "print(list(all_genres.keys()))"
   ]
  },
  {
   "cell_type": "code",
   "execution_count": 0,
   "metadata": {},
   "outputs": [],
   "source": [
    "g = all_genres_df.nlargest(columns=\"Count\", n = 50) \n",
    "plt.figure(figsize=(12,15)) \n",
    "ax = sns.barplot(data=g, x= \"Count\", y = \"Genre\") \n",
    "ax.set(ylabel = 'Count') \n",
    "plt.show()"
   ]
  },
  {
   "cell_type": "code",
   "execution_count": null,
   "metadata": {},
   "outputs": [],
   "source": []
  },
  {
   "cell_type": "code",
   "execution_count": 0,
   "metadata": {},
   "outputs": [],
   "source": [
    "multilabel_binarizer = MultiLabelBinarizer()\n",
    "multilabel_binarizer.fit(games_new['genre_new'])\n",
    "\n",
    "# transform target variable\n",
    "y = multilabel_binarizer.transform(games_new['genre_new'])"
   ]
  },
  {
   "cell_type": "code",
   "execution_count": 0,
   "metadata": {},
   "outputs": [],
   "source": [
    "\n",
    "f = pd.DataFrame(games_new)\n",
    "i=0\n",
    "for genre in list(all_genres.keys()):\n",
    "    genreli = y[:,i]\n",
    "    f[genre] = genreli \n",
    "    i=i+1\n",
    "    \n",
    "print(f)\n"
   ]
  },
  {
   "cell_type": "code",
   "execution_count": 0,
   "metadata": {},
   "outputs": [],
   "source": [
    "print(y)"
   ]
  },
  {
   "cell_type": "code",
   "execution_count": 0,
   "metadata": {},
   "outputs": [],
   "source": [
    "# split dataset into training and validation set\n",
    "xtrain, xval, ytrain, yval = train_test_split(games_new['description'], y, test_size=0.2, random_state=9)"
   ]
  },
  {
   "cell_type": "code",
   "execution_count": 0,
   "metadata": {},
   "outputs": [],
   "source": [
    "tfidf_vectorizer = TfidfVectorizer(max_df=0.8, max_features=10000)"
   ]
  },
  {
   "cell_type": "code",
   "execution_count": 0,
   "metadata": {},
   "outputs": [],
   "source": [
    "print(xtrain[1])"
   ]
  },
  {
   "cell_type": "code",
   "execution_count": 0,
   "metadata": {},
   "outputs": [],
   "source": [
    "xtrain_tfidf = tfidf_vectorizer.fit_transform(xtrain)\n",
    "xval_tfidf = tfidf_vectorizer.transform(xval)\n",
    "print(xtrain_tfidf[1])"
   ]
  },
  {
   "cell_type": "code",
   "execution_count": 0,
   "metadata": {},
   "outputs": [],
   "source": [
    "# get the first vector out (for the first document)\n",
    "first_vector_tfidfvectorizer=xtrain_tfidf[1]\n",
    "\n",
    "# place tf-idf values in a pandas data frame\n",
    "df = pd.DataFrame(first_vector_tfidfvectorizer.T.todense(), index=tfidf_vectorizer.get_feature_names(), columns=[\"tfidf\"])\n",
    "df.sort_values(by=[\"tfidf\"],ascending=False).head(20)\n"
   ]
  },
  {
   "cell_type": "code",
   "execution_count": 0,
   "metadata": {},
   "outputs": [],
   "source": [
    "print(xtrain_tfidf)"
   ]
  },
  {
   "cell_type": "code",
   "execution_count": 0,
   "metadata": {},
   "outputs": [],
   "source": [
    "LogReg_pipeline = Pipeline([\n",
    "                ('clf', OneVsRestClassifier(LogisticRegression(solver='sag'), n_jobs=-1)),\n",
    "            ])\n",
    "for category in categories:\n",
    "    print('**Processing {} comments...**'.format(category))\n",
    "    \n",
    "    # Training logistic regression model on train data\n",
    "    LogReg_pipeline.fit(x_train, train[category])\n",
    "    \n",
    "    # calculating test accuracy\n",
    "    prediction = LogReg_pipeline.predict(x_test)\n",
    "    print('Test accuracy is {}'.format(accuracy_score(test[category], prediction)))\n",
    "    print(\"\\n\")"
   ]
  },
  {
   "cell_type": "code",
   "execution_count": 0,
   "metadata": {},
   "outputs": [],
   "source": [
    "lr = LogisticRegression()\n",
    "clf = OneVsRestClassifier(lr)"
   ]
  },
  {
   "cell_type": "code",
   "execution_count": 0,
   "metadata": {},
   "outputs": [],
   "source": [
    "# fit model on train data\n",
    "clf.fit(xtrain_tfidf, ytrain)"
   ]
  },
  {
   "cell_type": "code",
   "execution_count": 0,
   "metadata": {},
   "outputs": [],
   "source": [
    "# make predictions for validation set\n",
    "y_pred = clf.predict(xval_tfidf)"
   ]
  },
  {
   "cell_type": "code",
   "execution_count": 0,
   "metadata": {},
   "outputs": [],
   "source": [
    "from sklearn.metrics import accuracy_score\n",
    "accuracy_score(yval, y_pred)"
   ]
  },
  {
   "cell_type": "code",
   "execution_count": 0,
   "metadata": {},
   "outputs": [],
   "source": [
    "# using binary relevance\n",
    "from skmultilearn.problem_transform import BinaryRelevance\n",
    "from sklearn.naive_bayes import GaussianNB\n",
    "\n",
    "# initialize binary relevance multi-label classifier\n",
    "# with a gaussian naive bayes base classifier\n",
    "classifier = BinaryRelevance(GaussianNB())\n",
    "\n",
    "# train\n",
    "classifier.fit(x_train, y_train)\n",
    "\n",
    "# predict\n",
    "predictions = classifier.predict(x_test)\n",
    "\n",
    "# accuracy\n",
    "print(\"Accuracy = \",accuracy_score(y_test,predictions))\n",
    "print(\"\\n\")"
   ]
  },
  {
   "cell_type": "code",
   "execution_count": 0,
   "metadata": {},
   "outputs": [],
   "source": [
    "y_pred[3]"
   ]
  },
  {
   "cell_type": "code",
   "execution_count": 0,
   "metadata": {},
   "outputs": [],
   "source": [
    "multilabel_binarizer.inverse_transform(y_pred)[3]"
   ]
  },
  {
   "cell_type": "code",
   "execution_count": 0,
   "metadata": {},
   "outputs": [],
   "source": [
    "f1_score(yval, y_pred, average=\"micro\")"
   ]
  },
  {
   "cell_type": "code",
   "execution_count": 0,
   "metadata": {},
   "outputs": [],
   "source": [
    "# predict probabilities\n",
    "y_pred_prob = clf.predict_proba(xval_tfidf)"
   ]
  },
  {
   "cell_type": "code",
   "execution_count": 0,
   "metadata": {},
   "outputs": [],
   "source": [
    "t = 0.3 # threshold value\n",
    "y_pred_new = (y_pred_prob >= t).astype(int)"
   ]
  },
  {
   "cell_type": "code",
   "execution_count": 0,
   "metadata": {},
   "outputs": [],
   "source": [
    "# evaluate performance\n",
    "f1_score(yval, y_pred_new, average=\"micro\")\n",
    "\n",
    "\n",
    "\n"
   ]
  },
  {
   "cell_type": "code",
   "execution_count": 0,
   "metadata": {},
   "outputs": [],
   "source": [
    "from sklearn.metrics import accuracy_score\n",
    "accuracy_score(yval, y_pred)"
   ]
  },
  {
   "cell_type": "code",
   "execution_count": null,
   "metadata": {},
   "outputs": [],
   "source": []
  },
  {
   "cell_type": "code",
   "execution_count": null,
   "metadata": {},
   "outputs": [],
   "source": []
  }
 ],
 "metadata": {
  "kernelspec": {
   "display_name": "Python 3",
   "language": "python",
   "name": "python3"
  },
  "language_info": {
   "codemirror_mode": {
    "name": "ipython",
    "version": 3
   },
   "file_extension": ".py",
   "mimetype": "text/x-python",
   "name": "python",
   "nbconvert_exporter": "python",
   "pygments_lexer": "ipython3",
   "version": "3.7.5-final"
  }
 },
 "nbformat": 4,
 "nbformat_minor": 4
}