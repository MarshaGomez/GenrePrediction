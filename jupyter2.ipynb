{
 "cells": [
  {
   "cell_type": "code",
   "execution_count": 1,
   "metadata": {},
   "outputs": [],
   "source": [
    "import rawgpy\n",
    "import time\n",
    "import json\n",
    "import urllib.request\n",
    "from nt import listdir\n",
    "import os\n",
    "import re\n",
    "from os import path\n",
    "import pandas as pd\n",
    "import numpy as np\n",
    "import nltk\n",
    "import csv\n",
    "import matplotlib.pyplot as plt \n",
    "import seaborn as sns\n",
    "from tqdm import tqdm\n",
    "from sklearn.feature_extraction.text import TfidfVectorizer\n",
    "from sklearn.model_selection import train_test_split\n",
    "from sklearn.preprocessing import MultiLabelBinarizer\n",
    "from sklearn.linear_model import LogisticRegression\n",
    "# Binary Relevance\n",
    "from sklearn.multiclass import OneVsRestClassifier\n",
    "# Performance metric\n",
    "from sklearn.metrics import f1_score\n",
    "\n",
    "\n",
    "pd.set_option('display.max_colwidth', 300)\n",
    "meta = pd.read_csv(\"C:/Users/Matilde/Desktop/GitHub/datamin/genrePrediction/gameCleanShort.csv\", sep = ',' , header = None)\n",
    "\n",
    "meta.columns = [\"id\",\"name\",\"description\",\"genres\"]\n",
    "#meta.head()"
   ]
  },
  {
   "cell_type": "code",
   "execution_count": 2,
   "metadata": {},
   "outputs": [
    {
     "data": {
      "text/html": "<div>\n<style scoped>\n    .dataframe tbody tr th:only-of-type {\n        vertical-align: middle;\n    }\n\n    .dataframe tbody tr th {\n        vertical-align: top;\n    }\n\n    .dataframe thead th {\n        text-align: right;\n    }\n</style>\n<table border=\"1\" class=\"dataframe\">\n  <thead>\n    <tr style=\"text-align: right;\">\n      <th></th>\n      <th>id</th>\n      <th>name</th>\n      <th>description</th>\n      <th>genres</th>\n    </tr>\n  </thead>\n  <tbody>\n    <tr>\n      <th>0</th>\n      <td>18225</td>\n      <td>age of magic ccg</td>\n      <td>age magic onlin collect card game mmo twist master four power class build deck use unit card five distinct race extend collect upgrad defeat evil forc excit pve campaign take power oppon player dungeon show deck build play skill claim victori fellow player arena featur uniqu turn base gameplay e...</td>\n      <td>['Strategy', 'RPG']</td>\n    </tr>\n    <tr>\n      <th>1</th>\n      <td>76547</td>\n      <td>age of magic</td>\n      <td>age magic new mobil turn base fantasi rpg legion epic hero fight remnant ancient magic world welcom era mage warrior dragon form squad hero discov stori campaign mode defeat player unforgett pvp battl reach top arena tournament prove skill infam tomb horror grim lair easi enter hard leav aliv co...</td>\n      <td>['RPG', 'Strategy']</td>\n    </tr>\n    <tr>\n      <th>2</th>\n      <td>377145</td>\n      <td>age of myth genesis</td>\n      <td>age myth genesi strateg mobil game base ancient rome war becom citi lord battl expand make citi stronger never alon call alli unit fantasi race real time conquer fall love constant battl chat upgrad time chang everyon everyth dawn time god look earth eager eye age myth genesi lord battl crown ne...</td>\n      <td>['RPG', 'Strategy']</td>\n    </tr>\n    <tr>\n      <th>3</th>\n      <td>12470</td>\n      <td>age of mythology extended edition</td>\n      <td>age mythologyth classic real time strategi game transport player time hero battl monster legend god interven affair mortal use mytholog creatur like minotaur cyclop bolster armi strength call upon god assist flatten enemi town meteor scatter oppos troop lightn storm extend edit includ age mythol...</td>\n      <td>['Strategy', 'Simulation']</td>\n    </tr>\n    <tr>\n      <th>4</th>\n      <td>11794</td>\n      <td>age of rivals</td>\n      <td>deep civil build strategi fast pace card game know game spend hour build huge civil care balanc economi militari cultur defens prove greatest ruler ever age rival like minut version card mani path victori competit card draft game featur uniqu charact hundr card rang great pyramid war eleph sneak...</td>\n      <td>['Strategy', 'Board Games', 'BoardGames']</td>\n    </tr>\n  </tbody>\n</table>\n</div>",
      "text/plain": "       id                               name  \\\n0   18225                   age of magic ccg   \n1   76547                       age of magic   \n2  377145                age of myth genesis   \n3   12470  age of mythology extended edition   \n4   11794                      age of rivals   \n\n                                                                                                                                                                                                                                                                                                   description  \\\n0  age magic onlin collect card game mmo twist master four power class build deck use unit card five distinct race extend collect upgrad defeat evil forc excit pve campaign take power oppon player dungeon show deck build play skill claim victori fellow player arena featur uniqu turn base gameplay e...   \n1  age magic new mobil turn base fantasi rpg legion epic hero fight remnant ancient magic world welcom era mage warrior dragon form squad hero discov stori campaign mode defeat player unforgett pvp battl reach top arena tournament prove skill infam tomb horror grim lair easi enter hard leav aliv co...   \n2  age myth genesi strateg mobil game base ancient rome war becom citi lord battl expand make citi stronger never alon call alli unit fantasi race real time conquer fall love constant battl chat upgrad time chang everyon everyth dawn time god look earth eager eye age myth genesi lord battl crown ne...   \n3  age mythologyth classic real time strategi game transport player time hero battl monster legend god interven affair mortal use mytholog creatur like minotaur cyclop bolster armi strength call upon god assist flatten enemi town meteor scatter oppos troop lightn storm extend edit includ age mythol...   \n4  deep civil build strategi fast pace card game know game spend hour build huge civil care balanc economi militari cultur defens prove greatest ruler ever age rival like minut version card mani path victori competit card draft game featur uniqu charact hundr card rang great pyramid war eleph sneak...   \n\n                                      genres  \n0                        ['Strategy', 'RPG']  \n1                        ['RPG', 'Strategy']  \n2                        ['RPG', 'Strategy']  \n3                 ['Strategy', 'Simulation']  \n4  ['Strategy', 'Board Games', 'BoardGames']  "
     },
     "execution_count": 2,
     "metadata": {},
     "output_type": "execute_result"
    }
   ],
   "source": [
    "games = pd.DataFrame(meta)\n",
    "games.head()"
   ]
  },
  {
   "cell_type": "code",
   "execution_count": 3,
   "metadata": {},
   "outputs": [
    {
     "data": {
      "text/plain": "(41806, 5)"
     },
     "execution_count": 3,
     "metadata": {},
     "output_type": "execute_result"
    }
   ],
   "source": [
    "genres = [] \n",
    "genres1 = [] \n",
    "s1= ['']\n",
    "# extract genres\n",
    "for i in games['genres']: \n",
    "    a = list(i.replace(\"]\",'').replace('[','').replace(\"'\",'').replace(' ','').split(\",\"))\n",
    "    if a == s1:\n",
    "        genres.append(' ') \n",
    "    else:\n",
    "        genres.append(a)\n",
    "        genres1.append(a)\n",
    "\n",
    "# add to 'movies' dataframe  \n",
    "games['genre_new'] = genres\n",
    "games.shape"
   ]
  },
  {
   "cell_type": "code",
   "execution_count": 4,
   "metadata": {},
   "outputs": [
    {
     "data": {
      "text/html": "<div>\n<style scoped>\n    .dataframe tbody tr th:only-of-type {\n        vertical-align: middle;\n    }\n\n    .dataframe tbody tr th {\n        vertical-align: top;\n    }\n\n    .dataframe thead th {\n        text-align: right;\n    }\n</style>\n<table border=\"1\" class=\"dataframe\">\n  <thead>\n    <tr style=\"text-align: right;\">\n      <th></th>\n      <th>id</th>\n      <th>name</th>\n      <th>description</th>\n      <th>genres</th>\n      <th>genre_new</th>\n    </tr>\n  </thead>\n  <tbody>\n    <tr>\n      <th>0</th>\n      <td>18225</td>\n      <td>age of magic ccg</td>\n      <td>age magic onlin collect card game mmo twist master four power class build deck use unit card five distinct race extend collect upgrad defeat evil forc excit pve campaign take power oppon player dungeon show deck build play skill claim victori fellow player arena featur uniqu turn base gameplay e...</td>\n      <td>['Strategy', 'RPG']</td>\n      <td>[Strategy, RPG]</td>\n    </tr>\n    <tr>\n      <th>1</th>\n      <td>76547</td>\n      <td>age of magic</td>\n      <td>age magic new mobil turn base fantasi rpg legion epic hero fight remnant ancient magic world welcom era mage warrior dragon form squad hero discov stori campaign mode defeat player unforgett pvp battl reach top arena tournament prove skill infam tomb horror grim lair easi enter hard leav aliv co...</td>\n      <td>['RPG', 'Strategy']</td>\n      <td>[RPG, Strategy]</td>\n    </tr>\n    <tr>\n      <th>2</th>\n      <td>377145</td>\n      <td>age of myth genesis</td>\n      <td>age myth genesi strateg mobil game base ancient rome war becom citi lord battl expand make citi stronger never alon call alli unit fantasi race real time conquer fall love constant battl chat upgrad time chang everyon everyth dawn time god look earth eager eye age myth genesi lord battl crown ne...</td>\n      <td>['RPG', 'Strategy']</td>\n      <td>[RPG, Strategy]</td>\n    </tr>\n    <tr>\n      <th>3</th>\n      <td>12470</td>\n      <td>age of mythology extended edition</td>\n      <td>age mythologyth classic real time strategi game transport player time hero battl monster legend god interven affair mortal use mytholog creatur like minotaur cyclop bolster armi strength call upon god assist flatten enemi town meteor scatter oppos troop lightn storm extend edit includ age mythol...</td>\n      <td>['Strategy', 'Simulation']</td>\n      <td>[Strategy, Simulation]</td>\n    </tr>\n    <tr>\n      <th>4</th>\n      <td>11794</td>\n      <td>age of rivals</td>\n      <td>deep civil build strategi fast pace card game know game spend hour build huge civil care balanc economi militari cultur defens prove greatest ruler ever age rival like minut version card mani path victori competit card draft game featur uniqu charact hundr card rang great pyramid war eleph sneak...</td>\n      <td>['Strategy', 'Board Games', 'BoardGames']</td>\n      <td>[Strategy, BoardGames, BoardGames]</td>\n    </tr>\n    <tr>\n      <th>...</th>\n      <td>...</td>\n      <td>...</td>\n      <td>...</td>\n      <td>...</td>\n      <td>...</td>\n    </tr>\n    <tr>\n      <th>995</th>\n      <td>367423</td>\n      <td>battlemonleague</td>\n      <td>real time team match pvp destroy block build path hunt giant monster cooper play captur enemi tower win gain trophi reach higher level battlemon leagu multiplay action game player overpow enemi summon monster fight hand hand combat snipe cooper key strategi combin differ monster card build perfe...</td>\n      <td>['Action', 'Strategy']</td>\n      <td>[Action, Strategy]</td>\n    </tr>\n    <tr>\n      <th>996</th>\n      <td>384480</td>\n      <td>battlenetwork 2d to 3d</td>\n      <td>build proper represent team jam due timezon differ limit avail cst friday spent hour jam oct cst oct cst pleas consid check full submiss</td>\n      <td>['Action', 'Strategy']</td>\n      <td>[Action, Strategy]</td>\n    </tr>\n    <tr>\n      <th>997</th>\n      <td>342669</td>\n      <td>battleon necroboi</td>\n      <td>control wasd amp arrow key restart</td>\n      <td>['Fighting']</td>\n      <td>[Fighting]</td>\n    </tr>\n    <tr>\n      <th>998</th>\n      <td>13027</td>\n      <td>battlepaths</td>\n      <td>battlepath loot centric addict rpg featur neat monster hack excel loot system huge varieti charact develop learn skill use powerful potion hunt chao overlord battl begin babatula first three big realm explor battlepath offer sophist drop system generat countless differ item along uniqu item char...</td>\n      <td>['RPG']</td>\n      <td>[RPG]</td>\n    </tr>\n    <tr>\n      <th>999</th>\n      <td>16774</td>\n      <td>battlepillars gold edition</td>\n      <td>battlepillar real time tug war strategi game team behind draw stickman epic command caterpillar arm teeth flamethrow sticki honey mine machin gun util best strategi combin blitzkrieg battlepillar arm feet heavili armor cannon wield rocket launch tankerpillar decid still enough perfect strategi t...</td>\n      <td>['Action', 'Strategy']</td>\n      <td>[Action, Strategy]</td>\n    </tr>\n  </tbody>\n</table>\n<p>1000 rows × 5 columns</p>\n</div>",
      "text/plain": "         id                               name  \\\n0     18225                   age of magic ccg   \n1     76547                       age of magic   \n2    377145                age of myth genesis   \n3     12470  age of mythology extended edition   \n4     11794                      age of rivals   \n..      ...                                ...   \n995  367423                    battlemonleague   \n996  384480             battlenetwork 2d to 3d   \n997  342669                  battleon necroboi   \n998   13027                        battlepaths   \n999   16774         battlepillars gold edition   \n\n                                                                                                                                                                                                                                                                                                     description  \\\n0    age magic onlin collect card game mmo twist master four power class build deck use unit card five distinct race extend collect upgrad defeat evil forc excit pve campaign take power oppon player dungeon show deck build play skill claim victori fellow player arena featur uniqu turn base gameplay e...   \n1    age magic new mobil turn base fantasi rpg legion epic hero fight remnant ancient magic world welcom era mage warrior dragon form squad hero discov stori campaign mode defeat player unforgett pvp battl reach top arena tournament prove skill infam tomb horror grim lair easi enter hard leav aliv co...   \n2    age myth genesi strateg mobil game base ancient rome war becom citi lord battl expand make citi stronger never alon call alli unit fantasi race real time conquer fall love constant battl chat upgrad time chang everyon everyth dawn time god look earth eager eye age myth genesi lord battl crown ne...   \n3    age mythologyth classic real time strategi game transport player time hero battl monster legend god interven affair mortal use mytholog creatur like minotaur cyclop bolster armi strength call upon god assist flatten enemi town meteor scatter oppos troop lightn storm extend edit includ age mythol...   \n4    deep civil build strategi fast pace card game know game spend hour build huge civil care balanc economi militari cultur defens prove greatest ruler ever age rival like minut version card mani path victori competit card draft game featur uniqu charact hundr card rang great pyramid war eleph sneak...   \n..                                                                                                                                                                                                                                                                                                           ...   \n995  real time team match pvp destroy block build path hunt giant monster cooper play captur enemi tower win gain trophi reach higher level battlemon leagu multiplay action game player overpow enemi summon monster fight hand hand combat snipe cooper key strategi combin differ monster card build perfe...   \n996                                                                                                                                                                     build proper represent team jam due timezon differ limit avail cst friday spent hour jam oct cst oct cst pleas consid check full submiss   \n997                                                                                                                                                                                                                                                                           control wasd amp arrow key restart   \n998  battlepath loot centric addict rpg featur neat monster hack excel loot system huge varieti charact develop learn skill use powerful potion hunt chao overlord battl begin babatula first three big realm explor battlepath offer sophist drop system generat countless differ item along uniqu item char...   \n999  battlepillar real time tug war strategi game team behind draw stickman epic command caterpillar arm teeth flamethrow sticki honey mine machin gun util best strategi combin blitzkrieg battlepillar arm feet heavili armor cannon wield rocket launch tankerpillar decid still enough perfect strategi t...   \n\n                                        genres  \\\n0                          ['Strategy', 'RPG']   \n1                          ['RPG', 'Strategy']   \n2                          ['RPG', 'Strategy']   \n3                   ['Strategy', 'Simulation']   \n4    ['Strategy', 'Board Games', 'BoardGames']   \n..                                         ...   \n995                     ['Action', 'Strategy']   \n996                     ['Action', 'Strategy']   \n997                               ['Fighting']   \n998                                    ['RPG']   \n999                     ['Action', 'Strategy']   \n\n                              genre_new  \n0                       [Strategy, RPG]  \n1                       [RPG, Strategy]  \n2                       [RPG, Strategy]  \n3                [Strategy, Simulation]  \n4    [Strategy, BoardGames, BoardGames]  \n..                                  ...  \n995                  [Action, Strategy]  \n996                  [Action, Strategy]  \n997                          [Fighting]  \n998                               [RPG]  \n999                  [Action, Strategy]  \n\n[1000 rows x 5 columns]"
     },
     "execution_count": 4,
     "metadata": {},
     "output_type": "execute_result"
    }
   ],
   "source": [
    "games_new =  games[~(games['genre_new'] == ' ')]\n",
    "games_new.head(1000)"
   ]
  },
  {
   "cell_type": "code",
   "execution_count": 5,
   "metadata": {},
   "outputs": [
    {
     "data": {
      "text/plain": "((41806, 5), (41806, 5))"
     },
     "execution_count": 5,
     "metadata": {},
     "output_type": "execute_result"
    }
   ],
   "source": [
    "games_new.shape, games.shape"
   ]
  },
  {
   "cell_type": "code",
   "execution_count": 6,
   "metadata": {},
   "outputs": [
    {
     "name": "stdout",
     "output_type": "stream",
     "text": "12\n"
    }
   ],
   "source": [
    "all_genres = sum(genres1,[])\n",
    "print(len(set(all_genres)))"
   ]
  },
  {
   "cell_type": "code",
   "execution_count": 7,
   "metadata": {},
   "outputs": [
    {
     "name": "stdout",
     "output_type": "stream",
     "text": "['Strategy', 'RPG', 'Simulation', 'BoardGames', 'Action', 'Adventure', 'Shooter', 'Puzzle', 'Sports', 'Racing', 'Fighting', 'Educational']\n"
    }
   ],
   "source": [
    "all_genres = nltk.FreqDist(all_genres) \n",
    "\n",
    "# create dataframe\n",
    "all_genres_df = pd.DataFrame({'Genre': list(all_genres.keys()), \n",
    "                              'Count': list(all_genres.values())})\n",
    "print(list(all_genres.keys()))"
   ]
  },
  {
   "cell_type": "code",
   "execution_count": 8,
   "metadata": {},
   "outputs": [
    {
     "data": {
      "image/png": "[encoded data removed]",
      "image/svg+xml": "<?xml version=\"1.0\" encoding=\"utf-8\" standalone=\"no\"?>\r\n<!DOCTYPE svg PUBLIC \"-//W3C//DTD SVG 1.1//EN\"\r\n  \"http://www.w3.org/Graphics/SVG/1.1/DTD/svg11.dtd\">\r\n<!-- Created with matplotlib (https://matplotlib.org/) -->\r\n<svg height=\"860.15625pt\" version=\"1.1\" viewBox=\"0 0 769.223437 860.15625\" width=\"769.223437pt\" xmlns=\"http://www.w3.org/2000/svg\" xmlns:xlink=\"http://www.w3.org/1999/xlink\">\r\n <defs>\r\n  <style type=\"text/css\">\r\n*{stroke-linecap:butt;stroke-linejoin:round;}\r\n  </style>\r\n </defs>\r\n <g id=\"figure_1\">\r\n  <g id=\"patch_1\">\r\n   <path d=\"M -0 860.15625 \r\nL 769.223437 860.15625 \r\nL 769.223437 0 \r\nL -0 0 \r\nz\r\n\" style=\"fill:none;\"/>\r\n  </g>\r\n  <g id=\"axes_1\">\r\n   <g id=\"patch_2\">\r\n    <path d=\"M 92.423438 822.6 \r\nL 762.023438 822.6 \r\nL 762.023438 7.2 \r\nL 92.423438 7.2 \r\nz\r\n\" style=\"fill:#ffffff;\"/>\r\n   </g>\r\n   <g id=\"patch_3\">\r\n    <path clip-path=\"url(#p58118c8563)\" d=\"M 92.423438 13.995 \r\nL 730.137723 13.995 \r\nL 730.137723 68.355 \r\nL 92.423438 68.355 \r\nz\r\n\" style=\"fill:#ea96a3;\"/>\r\n   </g>\r\n   <g id=\"patch_4\">\r\n    <path clip-path=\"url(#p58118c8563)\" d=\"M 92.423438 81.945 \r\nL 570.621118 81.945 \r\nL 570.621118 136.305 \r\nL 92.423438 136.305 \r\nz\r\n\" style=\"fill:#e19153;\"/>\r\n   </g>\r\n   <g id=\"patch_5\">\r\n    <path clip-path=\"url(#p58118c8563)\" d=\"M 92.423438 149.895 \r\nL 337.117293 149.895 \r\nL 337.117293 204.255 \r\nL 92.423438 204.255 \r\nz\r\n\" style=\"fill:#b89c49;\"/>\r\n   </g>\r\n   <g id=\"patch_6\">\r\n    <path clip-path=\"url(#p58118c8563)\" d=\"M 92.423438 217.845 \r\nL 327.022791 217.845 \r\nL 327.022791 272.205 \r\nL 92.423438 272.205 \r\nz\r\n\" style=\"fill:#98a246;\"/>\r\n   </g>\r\n   <g id=\"patch_7\">\r\n    <path clip-path=\"url(#p58118c8563)\" d=\"M 92.423438 285.795 \r\nL 326.083767 285.795 \r\nL 326.083767 340.155 \r\nL 92.423438 340.155 \r\nz\r\n\" style=\"fill:#60ae47;\"/>\r\n   </g>\r\n   <g id=\"patch_8\">\r\n    <path clip-path=\"url(#p58118c8563)\" d=\"M 92.423438 353.745 \r\nL 323.892713 353.745 \r\nL 323.892713 408.105 \r\nL 92.423438 408.105 \r\nz\r\n\" style=\"fill:#4aae8a;\"/>\r\n   </g>\r\n   <g id=\"patch_9\">\r\n    <path clip-path=\"url(#p58118c8563)\" d=\"M 92.423438 421.695 \r\nL 210.583886 421.695 \r\nL 210.583886 476.055 \r\nL 92.423438 476.055 \r\nz\r\n\" style=\"fill:#4baba4;\"/>\r\n   </g>\r\n   <g id=\"patch_10\">\r\n    <path clip-path=\"url(#p58118c8563)\" d=\"M 92.423438 489.645 \r\nL 177.209428 489.645 \r\nL 177.209428 544.005 \r\nL 92.423438 544.005 \r\nz\r\n\" style=\"fill:#4fabbc;\"/>\r\n   </g>\r\n   <g id=\"patch_11\">\r\n    <path clip-path=\"url(#p58118c8563)\" d=\"M 92.423438 557.595 \r\nL 171.06665 557.595 \r\nL 171.06665 611.955 \r\nL 92.423438 611.955 \r\nz\r\n\" style=\"fill:#6daee2;\"/>\r\n   </g>\r\n   <g id=\"patch_12\">\r\n    <path clip-path=\"url(#p58118c8563)\" d=\"M 92.423438 625.545 \r\nL 141.448286 625.545 \r\nL 141.448286 679.905 \r\nL 92.423438 679.905 \r\nz\r\n\" style=\"fill:#b6a8eb;\"/>\r\n   </g>\r\n   <g id=\"patch_13\">\r\n    <path clip-path=\"url(#p58118c8563)\" d=\"M 92.423438 693.495 \r\nL 122.472187 693.495 \r\nL 122.472187 747.855 \r\nL 92.423438 747.855 \r\nz\r\n\" style=\"fill:#df8fe7;\"/>\r\n   </g>\r\n   <g id=\"patch_14\">\r\n    <path clip-path=\"url(#p58118c8563)\" d=\"M 92.423438 761.445 \r\nL 120.750644 761.445 \r\nL 120.750644 815.805 \r\nL 92.423438 815.805 \r\nz\r\n\" style=\"fill:#e890c6;\"/>\r\n   </g>\r\n   <g id=\"matplotlib.axis_1\">\r\n    <g id=\"xtick_1\">\r\n     <g id=\"line2d_1\">\r\n      <defs>\r\n       <path d=\"M 0 0 \r\nL 0 3.5 \r\n\" id=\"m589a33de6b\" style=\"stroke:#000000;stroke-width:0.8;\"/>\r\n      </defs>\r\n      <g>\r\n       <use style=\"stroke:#000000;stroke-width:0.8;\" x=\"92.423438\" xlink:href=\"#m589a33de6b\" y=\"822.6\"/>\r\n      </g>\r\n     </g>\r\n     <g id=\"text_1\">\r\n      <!-- 0 -->\r\n      <defs>\r\n       <path d=\"M 31.78125 66.40625 \r\nQ 24.171875 66.40625 20.328125 58.90625 \r\nQ 16.5 51.421875 16.5 36.375 \r\nQ 16.5 21.390625 20.328125 13.890625 \r\nQ 24.171875 6.390625 31.78125 6.390625 \r\nQ 39.453125 6.390625 43.28125 13.890625 \r\nQ 47.125 21.390625 47.125 36.375 \r\nQ 47.125 51.421875 43.28125 58.90625 \r\nQ 39.453125 66.40625 31.78125 66.40625 \r\nz\r\nM 31.78125 74.21875 \r\nQ 44.046875 74.21875 50.515625 64.515625 \r\nQ 56.984375 54.828125 56.984375 36.375 \r\nQ 56.984375 17.96875 50.515625 8.265625 \r\nQ 44.046875 -1.421875 31.78125 -1.421875 \r\nQ 19.53125 -1.421875 13.0625 8.265625 \r\nQ 6.59375 17.96875 6.59375 36.375 \r\nQ 6.59375 54.828125 13.0625 64.515625 \r\nQ 19.53125 74.21875 31.78125 74.21875 \r\nz\r\n\" id=\"DejaVuSans-48\"/>\r\n      </defs>\r\n      <g transform=\"translate(89.242188 837.198437)scale(0.1 -0.1)\">\r\n       <use xlink:href=\"#DejaVuSans-48\"/>\r\n      </g>\r\n     </g>\r\n    </g>\r\n    <g id=\"xtick_2\">\r\n     <g id=\"line2d_2\">\r\n      <g>\r\n       <use style=\"stroke:#000000;stroke-width:0.8;\" x=\"170.67539\" xlink:href=\"#m589a33de6b\" y=\"822.6\"/>\r\n      </g>\r\n     </g>\r\n     <g id=\"text_2\">\r\n      <!-- 2000 -->\r\n      <defs>\r\n       <path d=\"M 19.1875 8.296875 \r\nL 53.609375 8.296875 \r\nL 53.609375 0 \r\nL 7.328125 0 \r\nL 7.328125 8.296875 \r\nQ 12.9375 14.109375 22.625 23.890625 \r\nQ 32.328125 33.6875 34.8125 36.53125 \r\nQ 39.546875 41.84375 41.421875 45.53125 \r\nQ 43.3125 49.21875 43.3125 52.78125 \r\nQ 43.3125 58.59375 39.234375 62.25 \r\nQ 35.15625 65.921875 28.609375 65.921875 \r\nQ 23.96875 65.921875 18.8125 64.3125 \r\nQ 13.671875 62.703125 7.8125 59.421875 \r\nL 7.8125 69.390625 \r\nQ 13.765625 71.78125 18.9375 73 \r\nQ 24.125 74.21875 28.421875 74.21875 \r\nQ 39.75 74.21875 46.484375 68.546875 \r\nQ 53.21875 62.890625 53.21875 53.421875 \r\nQ 53.21875 48.921875 51.53125 44.890625 \r\nQ 49.859375 40.875 45.40625 35.40625 \r\nQ 44.1875 33.984375 37.640625 27.21875 \r\nQ 31.109375 20.453125 19.1875 8.296875 \r\nz\r\n\" id=\"DejaVuSans-50\"/>\r\n      </defs>\r\n      <g transform=\"translate(157.95039 837.198437)scale(0.1 -0.1)\">\r\n       <use xlink:href=\"#DejaVuSans-50\"/>\r\n       <use x=\"63.623047\" xlink:href=\"#DejaVuSans-48\"/>\r\n       <use x=\"127.246094\" xlink:href=\"#DejaVuSans-48\"/>\r\n       <use x=\"190.869141\" xlink:href=\"#DejaVuSans-48\"/>\r\n      </g>\r\n     </g>\r\n    </g>\r\n    <g id=\"xtick_3\">\r\n     <g id=\"line2d_3\">\r\n      <g>\r\n       <use style=\"stroke:#000000;stroke-width:0.8;\" x=\"248.927342\" xlink:href=\"#m589a33de6b\" y=\"822.6\"/>\r\n      </g>\r\n     </g>\r\n     <g id=\"text_3\">\r\n      <!-- 4000 -->\r\n      <defs>\r\n       <path d=\"M 37.796875 64.3125 \r\nL 12.890625 25.390625 \r\nL 37.796875 25.390625 \r\nz\r\nM 35.203125 72.90625 \r\nL 47.609375 72.90625 \r\nL 47.609375 25.390625 \r\nL 58.015625 25.390625 \r\nL 58.015625 17.1875 \r\nL 47.609375 17.1875 \r\nL 47.609375 0 \r\nL 37.796875 0 \r\nL 37.796875 17.1875 \r\nL 4.890625 17.1875 \r\nL 4.890625 26.703125 \r\nz\r\n\" id=\"DejaVuSans-52\"/>\r\n      </defs>\r\n      <g transform=\"translate(236.202342 837.198437)scale(0.1 -0.1)\">\r\n       <use xlink:href=\"#DejaVuSans-52\"/>\r\n       <use x=\"63.623047\" xlink:href=\"#DejaVuSans-48\"/>\r\n       <use x=\"127.246094\" xlink:href=\"#DejaVuSans-48\"/>\r\n       <use x=\"190.869141\" xlink:href=\"#DejaVuSans-48\"/>\r\n      </g>\r\n     </g>\r\n    </g>\r\n    <g id=\"xtick_4\">\r\n     <g id=\"line2d_4\">\r\n      <g>\r\n       <use style=\"stroke:#000000;stroke-width:0.8;\" x=\"327.179295\" xlink:href=\"#m589a33de6b\" y=\"822.6\"/>\r\n      </g>\r\n     </g>\r\n     <g id=\"text_4\">\r\n      <!-- 6000 -->\r\n      <defs>\r\n       <path d=\"M 33.015625 40.375 \r\nQ 26.375 40.375 22.484375 35.828125 \r\nQ 18.609375 31.296875 18.609375 23.390625 \r\nQ 18.609375 15.53125 22.484375 10.953125 \r\nQ 26.375 6.390625 33.015625 6.390625 \r\nQ 39.65625 6.390625 43.53125 10.953125 \r\nQ 47.40625 15.53125 47.40625 23.390625 \r\nQ 47.40625 31.296875 43.53125 35.828125 \r\nQ 39.65625 40.375 33.015625 40.375 \r\nz\r\nM 52.59375 71.296875 \r\nL 52.59375 62.3125 \r\nQ 48.875 64.0625 45.09375 64.984375 \r\nQ 41.3125 65.921875 37.59375 65.921875 \r\nQ 27.828125 65.921875 22.671875 59.328125 \r\nQ 17.53125 52.734375 16.796875 39.40625 \r\nQ 19.671875 43.65625 24.015625 45.921875 \r\nQ 28.375 48.1875 33.59375 48.1875 \r\nQ 44.578125 48.1875 50.953125 41.515625 \r\nQ 57.328125 34.859375 57.328125 23.390625 \r\nQ 57.328125 12.15625 50.6875 5.359375 \r\nQ 44.046875 -1.421875 33.015625 -1.421875 \r\nQ 20.359375 -1.421875 13.671875 8.265625 \r\nQ 6.984375 17.96875 6.984375 36.375 \r\nQ 6.984375 53.65625 15.1875 63.9375 \r\nQ 23.390625 74.21875 37.203125 74.21875 \r\nQ 40.921875 74.21875 44.703125 73.484375 \r\nQ 48.484375 72.75 52.59375 71.296875 \r\nz\r\n\" id=\"DejaVuSans-54\"/>\r\n      </defs>\r\n      <g transform=\"translate(314.454295 837.198437)scale(0.1 -0.1)\">\r\n       <use xlink:href=\"#DejaVuSans-54\"/>\r\n       <use x=\"63.623047\" xlink:href=\"#DejaVuSans-48\"/>\r\n       <use x=\"127.246094\" xlink:href=\"#DejaVuSans-48\"/>\r\n       <use x=\"190.869141\" xlink:href=\"#DejaVuSans-48\"/>\r\n      </g>\r\n     </g>\r\n    </g>\r\n    <g id=\"xtick_5\">\r\n     <g id=\"line2d_5\">\r\n      <g>\r\n       <use style=\"stroke:#000000;stroke-width:0.8;\" x=\"405.431247\" xlink:href=\"#m589a33de6b\" y=\"822.6\"/>\r\n      </g>\r\n     </g>\r\n     <g id=\"text_5\">\r\n      <!-- 8000 -->\r\n      <defs>\r\n       <path d=\"M 31.78125 34.625 \r\nQ 24.75 34.625 20.71875 30.859375 \r\nQ 16.703125 27.09375 16.703125 20.515625 \r\nQ 16.703125 13.921875 20.71875 10.15625 \r\nQ 24.75 6.390625 31.78125 6.390625 \r\nQ 38.8125 6.390625 42.859375 10.171875 \r\nQ 46.921875 13.96875 46.921875 20.515625 \r\nQ 46.921875 27.09375 42.890625 30.859375 \r\nQ 38.875 34.625 31.78125 34.625 \r\nz\r\nM 21.921875 38.8125 \r\nQ 15.578125 40.375 12.03125 44.71875 \r\nQ 8.5 49.078125 8.5 55.328125 \r\nQ 8.5 64.0625 14.71875 69.140625 \r\nQ 20.953125 74.21875 31.78125 74.21875 \r\nQ 42.671875 74.21875 48.875 69.140625 \r\nQ 55.078125 64.0625 55.078125 55.328125 \r\nQ 55.078125 49.078125 51.53125 44.71875 \r\nQ 48 40.375 41.703125 38.8125 \r\nQ 48.828125 37.15625 52.796875 32.3125 \r\nQ 56.78125 27.484375 56.78125 20.515625 \r\nQ 56.78125 9.90625 50.3125 4.234375 \r\nQ 43.84375 -1.421875 31.78125 -1.421875 \r\nQ 19.734375 -1.421875 13.25 4.234375 \r\nQ 6.78125 9.90625 6.78125 20.515625 \r\nQ 6.78125 27.484375 10.78125 32.3125 \r\nQ 14.796875 37.15625 21.921875 38.8125 \r\nz\r\nM 18.3125 54.390625 \r\nQ 18.3125 48.734375 21.84375 45.5625 \r\nQ 25.390625 42.390625 31.78125 42.390625 \r\nQ 38.140625 42.390625 41.71875 45.5625 \r\nQ 45.3125 48.734375 45.3125 54.390625 \r\nQ 45.3125 60.0625 41.71875 63.234375 \r\nQ 38.140625 66.40625 31.78125 66.40625 \r\nQ 25.390625 66.40625 21.84375 63.234375 \r\nQ 18.3125 60.0625 18.3125 54.390625 \r\nz\r\n\" id=\"DejaVuSans-56\"/>\r\n      </defs>\r\n      <g transform=\"translate(392.706247 837.198437)scale(0.1 -0.1)\">\r\n       <use xlink:href=\"#DejaVuSans-56\"/>\r\n       <use x=\"63.623047\" xlink:href=\"#DejaVuSans-48\"/>\r\n       <use x=\"127.246094\" xlink:href=\"#DejaVuSans-48\"/>\r\n       <use x=\"190.869141\" xlink:href=\"#DejaVuSans-48\"/>\r\n      </g>\r\n     </g>\r\n    </g>\r\n    <g id=\"xtick_6\">\r\n     <g id=\"line2d_6\">\r\n      <g>\r\n       <use style=\"stroke:#000000;stroke-width:0.8;\" x=\"483.683199\" xlink:href=\"#m589a33de6b\" y=\"822.6\"/>\r\n      </g>\r\n     </g>\r\n     <g id=\"text_6\">\r\n      <!-- 10000 -->\r\n      <defs>\r\n       <path d=\"M 12.40625 8.296875 \r\nL 28.515625 8.296875 \r\nL 28.515625 63.921875 \r\nL 10.984375 60.40625 \r\nL 10.984375 69.390625 \r\nL 28.421875 72.90625 \r\nL 38.28125 72.90625 \r\nL 38.28125 8.296875 \r\nL 54.390625 8.296875 \r\nL 54.390625 0 \r\nL 12.40625 0 \r\nz\r\n\" id=\"DejaVuSans-49\"/>\r\n      </defs>\r\n      <g transform=\"translate(467.776949 837.198437)scale(0.1 -0.1)\">\r\n       <use xlink:href=\"#DejaVuSans-49\"/>\r\n       <use x=\"63.623047\" xlink:href=\"#DejaVuSans-48\"/>\r\n       <use x=\"127.246094\" xlink:href=\"#DejaVuSans-48\"/>\r\n       <use x=\"190.869141\" xlink:href=\"#DejaVuSans-48\"/>\r\n       <use x=\"254.492188\" xlink:href=\"#DejaVuSans-48\"/>\r\n      </g>\r\n     </g>\r\n    </g>\r\n    <g id=\"xtick_7\">\r\n     <g id=\"line2d_7\">\r\n      <g>\r\n       <use style=\"stroke:#000000;stroke-width:0.8;\" x=\"561.935152\" xlink:href=\"#m589a33de6b\" y=\"822.6\"/>\r\n      </g>\r\n     </g>\r\n     <g id=\"text_7\">\r\n      <!-- 12000 -->\r\n      <g transform=\"translate(546.028902 837.198437)scale(0.1 -0.1)\">\r\n       <use xlink:href=\"#DejaVuSans-49\"/>\r\n       <use x=\"63.623047\" xlink:href=\"#DejaVuSans-50\"/>\r\n       <use x=\"127.246094\" xlink:href=\"#DejaVuSans-48\"/>\r\n       <use x=\"190.869141\" xlink:href=\"#DejaVuSans-48\"/>\r\n       <use x=\"254.492188\" xlink:href=\"#DejaVuSans-48\"/>\r\n      </g>\r\n     </g>\r\n    </g>\r\n    <g id=\"xtick_8\">\r\n     <g id=\"line2d_8\">\r\n      <g>\r\n       <use style=\"stroke:#000000;stroke-width:0.8;\" x=\"640.187104\" xlink:href=\"#m589a33de6b\" y=\"822.6\"/>\r\n      </g>\r\n     </g>\r\n     <g id=\"text_8\">\r\n      <!-- 14000 -->\r\n      <g transform=\"translate(624.280854 837.198437)scale(0.1 -0.1)\">\r\n       <use xlink:href=\"#DejaVuSans-49\"/>\r\n       <use x=\"63.623047\" xlink:href=\"#DejaVuSans-52\"/>\r\n       <use x=\"127.246094\" xlink:href=\"#DejaVuSans-48\"/>\r\n       <use x=\"190.869141\" xlink:href=\"#DejaVuSans-48\"/>\r\n       <use x=\"254.492188\" xlink:href=\"#DejaVuSans-48\"/>\r\n      </g>\r\n     </g>\r\n    </g>\r\n    <g id=\"xtick_9\">\r\n     <g id=\"line2d_9\">\r\n      <g>\r\n       <use style=\"stroke:#000000;stroke-width:0.8;\" x=\"718.439056\" xlink:href=\"#m589a33de6b\" y=\"822.6\"/>\r\n      </g>\r\n     </g>\r\n     <g id=\"text_9\">\r\n      <!-- 16000 -->\r\n      <g transform=\"translate(702.532806 837.198437)scale(0.1 -0.1)\">\r\n       <use xlink:href=\"#DejaVuSans-49\"/>\r\n       <use x=\"63.623047\" xlink:href=\"#DejaVuSans-54\"/>\r\n       <use x=\"127.246094\" xlink:href=\"#DejaVuSans-48\"/>\r\n       <use x=\"190.869141\" xlink:href=\"#DejaVuSans-48\"/>\r\n       <use x=\"254.492188\" xlink:href=\"#DejaVuSans-48\"/>\r\n      </g>\r\n     </g>\r\n    </g>\r\n    <g id=\"text_10\">\r\n     <!-- Count -->\r\n     <defs>\r\n      <path d=\"M 64.40625 67.28125 \r\nL 64.40625 56.890625 \r\nQ 59.421875 61.53125 53.78125 63.8125 \r\nQ 48.140625 66.109375 41.796875 66.109375 \r\nQ 29.296875 66.109375 22.65625 58.46875 \r\nQ 16.015625 50.828125 16.015625 36.375 \r\nQ 16.015625 21.96875 22.65625 14.328125 \r\nQ 29.296875 6.6875 41.796875 6.6875 \r\nQ 48.140625 6.6875 53.78125 8.984375 \r\nQ 59.421875 11.28125 64.40625 15.921875 \r\nL 64.40625 5.609375 \r\nQ 59.234375 2.09375 53.4375 0.328125 \r\nQ 47.65625 -1.421875 41.21875 -1.421875 \r\nQ 24.65625 -1.421875 15.125 8.703125 \r\nQ 5.609375 18.84375 5.609375 36.375 \r\nQ 5.609375 53.953125 15.125 64.078125 \r\nQ 24.65625 74.21875 41.21875 74.21875 \r\nQ 47.75 74.21875 53.53125 72.484375 \r\nQ 59.328125 70.75 64.40625 67.28125 \r\nz\r\n\" id=\"DejaVuSans-67\"/>\r\n      <path d=\"M 30.609375 48.390625 \r\nQ 23.390625 48.390625 19.1875 42.75 \r\nQ 14.984375 37.109375 14.984375 27.296875 \r\nQ 14.984375 17.484375 19.15625 11.84375 \r\nQ 23.34375 6.203125 30.609375 6.203125 \r\nQ 37.796875 6.203125 41.984375 11.859375 \r\nQ 46.1875 17.53125 46.1875 27.296875 \r\nQ 46.1875 37.015625 41.984375 42.703125 \r\nQ 37.796875 48.390625 30.609375 48.390625 \r\nz\r\nM 30.609375 56 \r\nQ 42.328125 56 49.015625 48.375 \r\nQ 55.71875 40.765625 55.71875 27.296875 \r\nQ 55.71875 13.875 49.015625 6.21875 \r\nQ 42.328125 -1.421875 30.609375 -1.421875 \r\nQ 18.84375 -1.421875 12.171875 6.21875 \r\nQ 5.515625 13.875 5.515625 27.296875 \r\nQ 5.515625 40.765625 12.171875 48.375 \r\nQ 18.84375 56 30.609375 56 \r\nz\r\n\" id=\"DejaVuSans-111\"/>\r\n      <path d=\"M 8.5 21.578125 \r\nL 8.5 54.6875 \r\nL 17.484375 54.6875 \r\nL 17.484375 21.921875 \r\nQ 17.484375 14.15625 20.5 10.265625 \r\nQ 23.53125 6.390625 29.59375 6.390625 \r\nQ 36.859375 6.390625 41.078125 11.03125 \r\nQ 45.3125 15.671875 45.3125 23.6875 \r\nL 45.3125 54.6875 \r\nL 54.296875 54.6875 \r\nL 54.296875 0 \r\nL 45.3125 0 \r\nL 45.3125 8.40625 \r\nQ 42.046875 3.421875 37.71875 1 \r\nQ 33.40625 -1.421875 27.6875 -1.421875 \r\nQ 18.265625 -1.421875 13.375 4.4375 \r\nQ 8.5 10.296875 8.5 21.578125 \r\nz\r\nM 31.109375 56 \r\nz\r\n\" id=\"DejaVuSans-117\"/>\r\n      <path d=\"M 54.890625 33.015625 \r\nL 54.890625 0 \r\nL 45.90625 0 \r\nL 45.90625 32.71875 \r\nQ 45.90625 40.484375 42.875 44.328125 \r\nQ 39.84375 48.1875 33.796875 48.1875 \r\nQ 26.515625 48.1875 22.3125 43.546875 \r\nQ 18.109375 38.921875 18.109375 30.90625 \r\nL 18.109375 0 \r\nL 9.078125 0 \r\nL 9.078125 54.6875 \r\nL 18.109375 54.6875 \r\nL 18.109375 46.1875 \r\nQ 21.34375 51.125 25.703125 53.5625 \r\nQ 30.078125 56 35.796875 56 \r\nQ 45.21875 56 50.046875 50.171875 \r\nQ 54.890625 44.34375 54.890625 33.015625 \r\nz\r\n\" id=\"DejaVuSans-110\"/>\r\n      <path d=\"M 18.3125 70.21875 \r\nL 18.3125 54.6875 \r\nL 36.8125 54.6875 \r\nL 36.8125 47.703125 \r\nL 18.3125 47.703125 \r\nL 18.3125 18.015625 \r\nQ 18.3125 11.328125 20.140625 9.421875 \r\nQ 21.96875 7.515625 27.59375 7.515625 \r\nL 36.8125 7.515625 \r\nL 36.8125 0 \r\nL 27.59375 0 \r\nQ 17.1875 0 13.234375 3.875 \r\nQ 9.28125 7.765625 9.28125 18.015625 \r\nL 9.28125 47.703125 \r\nL 2.6875 47.703125 \r\nL 2.6875 54.6875 \r\nL 9.28125 54.6875 \r\nL 9.28125 70.21875 \r\nz\r\n\" id=\"DejaVuSans-116\"/>\r\n     </defs>\r\n     <g transform=\"translate(412.375 850.876562)scale(0.1 -0.1)\">\r\n      <use xlink:href=\"#DejaVuSans-67\"/>\r\n      <use x=\"69.824219\" xlink:href=\"#DejaVuSans-111\"/>\r\n      <use x=\"131.005859\" xlink:href=\"#DejaVuSans-117\"/>\r\n      <use x=\"194.384766\" xlink:href=\"#DejaVuSans-110\"/>\r\n      <use x=\"257.763672\" xlink:href=\"#DejaVuSans-116\"/>\r\n     </g>\r\n    </g>\r\n   </g>\r\n   <g id=\"matplotlib.axis_2\">\r\n    <g id=\"ytick_1\">\r\n     <g id=\"line2d_10\">\r\n      <defs>\r\n       <path d=\"M 0 0 \r\nL -3.5 0 \r\n\" id=\"m9dd5f557c6\" style=\"stroke:#000000;stroke-width:0.8;\"/>\r\n      </defs>\r\n      <g>\r\n       <use style=\"stroke:#000000;stroke-width:0.8;\" x=\"92.423438\" xlink:href=\"#m9dd5f557c6\" y=\"41.175\"/>\r\n      </g>\r\n     </g>\r\n     <g id=\"text_11\">\r\n      <!-- Action -->\r\n      <defs>\r\n       <path d=\"M 34.1875 63.1875 \r\nL 20.796875 26.90625 \r\nL 47.609375 26.90625 \r\nz\r\nM 28.609375 72.90625 \r\nL 39.796875 72.90625 \r\nL 67.578125 0 \r\nL 57.328125 0 \r\nL 50.6875 18.703125 \r\nL 17.828125 18.703125 \r\nL 11.1875 0 \r\nL 0.78125 0 \r\nz\r\n\" id=\"DejaVuSans-65\"/>\r\n       <path d=\"M 48.78125 52.59375 \r\nL 48.78125 44.1875 \r\nQ 44.96875 46.296875 41.140625 47.34375 \r\nQ 37.3125 48.390625 33.40625 48.390625 \r\nQ 24.65625 48.390625 19.8125 42.84375 \r\nQ 14.984375 37.3125 14.984375 27.296875 \r\nQ 14.984375 17.28125 19.8125 11.734375 \r\nQ 24.65625 6.203125 33.40625 6.203125 \r\nQ 37.3125 6.203125 41.140625 7.25 \r\nQ 44.96875 8.296875 48.78125 10.40625 \r\nL 48.78125 2.09375 \r\nQ 45.015625 0.34375 40.984375 -0.53125 \r\nQ 36.96875 -1.421875 32.421875 -1.421875 \r\nQ 20.0625 -1.421875 12.78125 6.34375 \r\nQ 5.515625 14.109375 5.515625 27.296875 \r\nQ 5.515625 40.671875 12.859375 48.328125 \r\nQ 20.21875 56 33.015625 56 \r\nQ 37.15625 56 41.109375 55.140625 \r\nQ 45.0625 54.296875 48.78125 52.59375 \r\nz\r\n\" id=\"DejaVuSans-99\"/>\r\n       <path d=\"M 9.421875 54.6875 \r\nL 18.40625 54.6875 \r\nL 18.40625 0 \r\nL 9.421875 0 \r\nz\r\nM 9.421875 75.984375 \r\nL 18.40625 75.984375 \r\nL 18.40625 64.59375 \r\nL 9.421875 64.59375 \r\nz\r\n\" id=\"DejaVuSans-105\"/>\r\n      </defs>\r\n      <g transform=\"translate(53.93125 44.974219)scale(0.1 -0.1)\">\r\n       <use xlink:href=\"#DejaVuSans-65\"/>\r\n       <use x=\"68.392578\" xlink:href=\"#DejaVuSans-99\"/>\r\n       <use x=\"123.373047\" xlink:href=\"#DejaVuSans-116\"/>\r\n       <use x=\"162.582031\" xlink:href=\"#DejaVuSans-105\"/>\r\n       <use x=\"190.365234\" xlink:href=\"#DejaVuSans-111\"/>\r\n       <use x=\"251.546875\" xlink:href=\"#DejaVuSans-110\"/>\r\n      </g>\r\n     </g>\r\n    </g>\r\n    <g id=\"ytick_2\">\r\n     <g id=\"line2d_11\">\r\n      <g>\r\n       <use style=\"stroke:#000000;stroke-width:0.8;\" x=\"92.423438\" xlink:href=\"#m9dd5f557c6\" y=\"109.125\"/>\r\n      </g>\r\n     </g>\r\n     <g id=\"text_12\">\r\n      <!-- Adventure -->\r\n      <defs>\r\n       <path d=\"M 45.40625 46.390625 \r\nL 45.40625 75.984375 \r\nL 54.390625 75.984375 \r\nL 54.390625 0 \r\nL 45.40625 0 \r\nL 45.40625 8.203125 \r\nQ 42.578125 3.328125 38.25 0.953125 \r\nQ 33.9375 -1.421875 27.875 -1.421875 \r\nQ 17.96875 -1.421875 11.734375 6.484375 \r\nQ 5.515625 14.40625 5.515625 27.296875 \r\nQ 5.515625 40.1875 11.734375 48.09375 \r\nQ 17.96875 56 27.875 56 \r\nQ 33.9375 56 38.25 53.625 \r\nQ 42.578125 51.265625 45.40625 46.390625 \r\nz\r\nM 14.796875 27.296875 \r\nQ 14.796875 17.390625 18.875 11.75 \r\nQ 22.953125 6.109375 30.078125 6.109375 \r\nQ 37.203125 6.109375 41.296875 11.75 \r\nQ 45.40625 17.390625 45.40625 27.296875 \r\nQ 45.40625 37.203125 41.296875 42.84375 \r\nQ 37.203125 48.484375 30.078125 48.484375 \r\nQ 22.953125 48.484375 18.875 42.84375 \r\nQ 14.796875 37.203125 14.796875 27.296875 \r\nz\r\n\" id=\"DejaVuSans-100\"/>\r\n       <path d=\"M 2.984375 54.6875 \r\nL 12.5 54.6875 \r\nL 29.59375 8.796875 \r\nL 46.6875 54.6875 \r\nL 56.203125 54.6875 \r\nL 35.6875 0 \r\nL 23.484375 0 \r\nz\r\n\" id=\"DejaVuSans-118\"/>\r\n       <path d=\"M 56.203125 29.59375 \r\nL 56.203125 25.203125 \r\nL 14.890625 25.203125 \r\nQ 15.484375 15.921875 20.484375 11.0625 \r\nQ 25.484375 6.203125 34.421875 6.203125 \r\nQ 39.59375 6.203125 44.453125 7.46875 \r\nQ 49.3125 8.734375 54.109375 11.28125 \r\nL 54.109375 2.78125 \r\nQ 49.265625 0.734375 44.1875 -0.34375 \r\nQ 39.109375 -1.421875 33.890625 -1.421875 \r\nQ 20.796875 -1.421875 13.15625 6.1875 \r\nQ 5.515625 13.8125 5.515625 26.8125 \r\nQ 5.515625 40.234375 12.765625 48.109375 \r\nQ 20.015625 56 32.328125 56 \r\nQ 43.359375 56 49.78125 48.890625 \r\nQ 56.203125 41.796875 56.203125 29.59375 \r\nz\r\nM 47.21875 32.234375 \r\nQ 47.125 39.59375 43.09375 43.984375 \r\nQ 39.0625 48.390625 32.421875 48.390625 \r\nQ 24.90625 48.390625 20.390625 44.140625 \r\nQ 15.875 39.890625 15.1875 32.171875 \r\nz\r\n\" id=\"DejaVuSans-101\"/>\r\n       <path d=\"M 41.109375 46.296875 \r\nQ 39.59375 47.171875 37.8125 47.578125 \r\nQ 36.03125 48 33.890625 48 \r\nQ 26.265625 48 22.1875 43.046875 \r\nQ 18.109375 38.09375 18.109375 28.8125 \r\nL 18.109375 0 \r\nL 9.078125 0 \r\nL 9.078125 54.6875 \r\nL 18.109375 54.6875 \r\nL 18.109375 46.1875 \r\nQ 20.953125 51.171875 25.484375 53.578125 \r\nQ 30.03125 56 36.53125 56 \r\nQ 37.453125 56 38.578125 55.875 \r\nQ 39.703125 55.765625 41.0625 55.515625 \r\nz\r\n\" id=\"DejaVuSans-114\"/>\r\n      </defs>\r\n      <g transform=\"translate(33.307813 112.924219)scale(0.1 -0.1)\">\r\n       <use xlink:href=\"#DejaVuSans-65\"/>\r\n       <use x=\"68.392578\" xlink:href=\"#DejaVuSans-100\"/>\r\n       <use x=\"131.869141\" xlink:href=\"#DejaVuSans-118\"/>\r\n       <use x=\"191.048828\" xlink:href=\"#DejaVuSans-101\"/>\r\n       <use x=\"252.572266\" xlink:href=\"#DejaVuSans-110\"/>\r\n       <use x=\"315.951172\" xlink:href=\"#DejaVuSans-116\"/>\r\n       <use x=\"355.160156\" xlink:href=\"#DejaVuSans-117\"/>\r\n       <use x=\"418.539062\" xlink:href=\"#DejaVuSans-114\"/>\r\n       <use x=\"459.621094\" xlink:href=\"#DejaVuSans-101\"/>\r\n      </g>\r\n     </g>\r\n    </g>\r\n    <g id=\"ytick_3\">\r\n     <g id=\"line2d_12\">\r\n      <g>\r\n       <use style=\"stroke:#000000;stroke-width:0.8;\" x=\"92.423438\" xlink:href=\"#m9dd5f557c6\" y=\"177.075\"/>\r\n      </g>\r\n     </g>\r\n     <g id=\"text_13\">\r\n      <!-- RPG -->\r\n      <defs>\r\n       <path d=\"M 44.390625 34.1875 \r\nQ 47.5625 33.109375 50.5625 29.59375 \r\nQ 53.5625 26.078125 56.59375 19.921875 \r\nL 66.609375 0 \r\nL 56 0 \r\nL 46.6875 18.703125 \r\nQ 43.0625 26.03125 39.671875 28.421875 \r\nQ 36.28125 30.8125 30.421875 30.8125 \r\nL 19.671875 30.8125 \r\nL 19.671875 0 \r\nL 9.8125 0 \r\nL 9.8125 72.90625 \r\nL 32.078125 72.90625 \r\nQ 44.578125 72.90625 50.734375 67.671875 \r\nQ 56.890625 62.453125 56.890625 51.90625 \r\nQ 56.890625 45.015625 53.6875 40.46875 \r\nQ 50.484375 35.9375 44.390625 34.1875 \r\nz\r\nM 19.671875 64.796875 \r\nL 19.671875 38.921875 \r\nL 32.078125 38.921875 \r\nQ 39.203125 38.921875 42.84375 42.21875 \r\nQ 46.484375 45.515625 46.484375 51.90625 \r\nQ 46.484375 58.296875 42.84375 61.546875 \r\nQ 39.203125 64.796875 32.078125 64.796875 \r\nz\r\n\" id=\"DejaVuSans-82\"/>\r\n       <path d=\"M 19.671875 64.796875 \r\nL 19.671875 37.40625 \r\nL 32.078125 37.40625 \r\nQ 38.96875 37.40625 42.71875 40.96875 \r\nQ 46.484375 44.53125 46.484375 51.125 \r\nQ 46.484375 57.671875 42.71875 61.234375 \r\nQ 38.96875 64.796875 32.078125 64.796875 \r\nz\r\nM 9.8125 72.90625 \r\nL 32.078125 72.90625 \r\nQ 44.34375 72.90625 50.609375 67.359375 \r\nQ 56.890625 61.8125 56.890625 51.125 \r\nQ 56.890625 40.328125 50.609375 34.8125 \r\nQ 44.34375 29.296875 32.078125 29.296875 \r\nL 19.671875 29.296875 \r\nL 19.671875 0 \r\nL 9.8125 0 \r\nz\r\n\" id=\"DejaVuSans-80\"/>\r\n       <path d=\"M 59.515625 10.40625 \r\nL 59.515625 29.984375 \r\nL 43.40625 29.984375 \r\nL 43.40625 38.09375 \r\nL 69.28125 38.09375 \r\nL 69.28125 6.78125 \r\nQ 63.578125 2.734375 56.6875 0.65625 \r\nQ 49.8125 -1.421875 42 -1.421875 \r\nQ 24.90625 -1.421875 15.25 8.5625 \r\nQ 5.609375 18.5625 5.609375 36.375 \r\nQ 5.609375 54.25 15.25 64.234375 \r\nQ 24.90625 74.21875 42 74.21875 \r\nQ 49.125 74.21875 55.546875 72.453125 \r\nQ 61.96875 70.703125 67.390625 67.28125 \r\nL 67.390625 56.78125 \r\nQ 61.921875 61.421875 55.765625 63.765625 \r\nQ 49.609375 66.109375 42.828125 66.109375 \r\nQ 29.4375 66.109375 22.71875 58.640625 \r\nQ 16.015625 51.171875 16.015625 36.375 \r\nQ 16.015625 21.625 22.71875 14.15625 \r\nQ 29.4375 6.6875 42.828125 6.6875 \r\nQ 48.046875 6.6875 52.140625 7.59375 \r\nQ 56.25 8.5 59.515625 10.40625 \r\nz\r\n\" id=\"DejaVuSans-71\"/>\r\n      </defs>\r\n      <g transform=\"translate(64.696875 180.874219)scale(0.1 -0.1)\">\r\n       <use xlink:href=\"#DejaVuSans-82\"/>\r\n       <use x=\"69.482422\" xlink:href=\"#DejaVuSans-80\"/>\r\n       <use x=\"129.785156\" xlink:href=\"#DejaVuSans-71\"/>\r\n      </g>\r\n     </g>\r\n    </g>\r\n    <g id=\"ytick_4\">\r\n     <g id=\"line2d_13\">\r\n      <g>\r\n       <use style=\"stroke:#000000;stroke-width:0.8;\" x=\"92.423438\" xlink:href=\"#m9dd5f557c6\" y=\"245.025\"/>\r\n      </g>\r\n     </g>\r\n     <g id=\"text_14\">\r\n      <!-- Strategy -->\r\n      <defs>\r\n       <path d=\"M 53.515625 70.515625 \r\nL 53.515625 60.890625 \r\nQ 47.90625 63.578125 42.921875 64.890625 \r\nQ 37.9375 66.21875 33.296875 66.21875 \r\nQ 25.25 66.21875 20.875 63.09375 \r\nQ 16.5 59.96875 16.5 54.203125 \r\nQ 16.5 49.359375 19.40625 46.890625 \r\nQ 22.3125 44.4375 30.421875 42.921875 \r\nL 36.375 41.703125 \r\nQ 47.40625 39.59375 52.65625 34.296875 \r\nQ 57.90625 29 57.90625 20.125 \r\nQ 57.90625 9.515625 50.796875 4.046875 \r\nQ 43.703125 -1.421875 29.984375 -1.421875 \r\nQ 24.8125 -1.421875 18.96875 -0.25 \r\nQ 13.140625 0.921875 6.890625 3.21875 \r\nL 6.890625 13.375 \r\nQ 12.890625 10.015625 18.65625 8.296875 \r\nQ 24.421875 6.59375 29.984375 6.59375 \r\nQ 38.421875 6.59375 43.015625 9.90625 \r\nQ 47.609375 13.234375 47.609375 19.390625 \r\nQ 47.609375 24.75 44.3125 27.78125 \r\nQ 41.015625 30.8125 33.5 32.328125 \r\nL 27.484375 33.5 \r\nQ 16.453125 35.6875 11.515625 40.375 \r\nQ 6.59375 45.0625 6.59375 53.421875 \r\nQ 6.59375 63.09375 13.40625 68.65625 \r\nQ 20.21875 74.21875 32.171875 74.21875 \r\nQ 37.3125 74.21875 42.625 73.28125 \r\nQ 47.953125 72.359375 53.515625 70.515625 \r\nz\r\n\" id=\"DejaVuSans-83\"/>\r\n       <path d=\"M 34.28125 27.484375 \r\nQ 23.390625 27.484375 19.1875 25 \r\nQ 14.984375 22.515625 14.984375 16.5 \r\nQ 14.984375 11.71875 18.140625 8.90625 \r\nQ 21.296875 6.109375 26.703125 6.109375 \r\nQ 34.1875 6.109375 38.703125 11.40625 \r\nQ 43.21875 16.703125 43.21875 25.484375 \r\nL 43.21875 27.484375 \r\nz\r\nM 52.203125 31.203125 \r\nL 52.203125 0 \r\nL 43.21875 0 \r\nL 43.21875 8.296875 \r\nQ 40.140625 3.328125 35.546875 0.953125 \r\nQ 30.953125 -1.421875 24.3125 -1.421875 \r\nQ 15.921875 -1.421875 10.953125 3.296875 \r\nQ 6 8.015625 6 15.921875 \r\nQ 6 25.140625 12.171875 29.828125 \r\nQ 18.359375 34.515625 30.609375 34.515625 \r\nL 43.21875 34.515625 \r\nL 43.21875 35.40625 \r\nQ 43.21875 41.609375 39.140625 45 \r\nQ 35.0625 48.390625 27.6875 48.390625 \r\nQ 23 48.390625 18.546875 47.265625 \r\nQ 14.109375 46.140625 10.015625 43.890625 \r\nL 10.015625 52.203125 \r\nQ 14.9375 54.109375 19.578125 55.046875 \r\nQ 24.21875 56 28.609375 56 \r\nQ 40.484375 56 46.34375 49.84375 \r\nQ 52.203125 43.703125 52.203125 31.203125 \r\nz\r\n\" id=\"DejaVuSans-97\"/>\r\n       <path d=\"M 45.40625 27.984375 \r\nQ 45.40625 37.75 41.375 43.109375 \r\nQ 37.359375 48.484375 30.078125 48.484375 \r\nQ 22.859375 48.484375 18.828125 43.109375 \r\nQ 14.796875 37.75 14.796875 27.984375 \r\nQ 14.796875 18.265625 18.828125 12.890625 \r\nQ 22.859375 7.515625 30.078125 7.515625 \r\nQ 37.359375 7.515625 41.375 12.890625 \r\nQ 45.40625 18.265625 45.40625 27.984375 \r\nz\r\nM 54.390625 6.78125 \r\nQ 54.390625 -7.171875 48.1875 -13.984375 \r\nQ 42 -20.796875 29.203125 -20.796875 \r\nQ 24.46875 -20.796875 20.265625 -20.09375 \r\nQ 16.0625 -19.390625 12.109375 -17.921875 \r\nL 12.109375 -9.1875 \r\nQ 16.0625 -11.328125 19.921875 -12.34375 \r\nQ 23.78125 -13.375 27.78125 -13.375 \r\nQ 36.625 -13.375 41.015625 -8.765625 \r\nQ 45.40625 -4.15625 45.40625 5.171875 \r\nL 45.40625 9.625 \r\nQ 42.625 4.78125 38.28125 2.390625 \r\nQ 33.9375 0 27.875 0 \r\nQ 17.828125 0 11.671875 7.65625 \r\nQ 5.515625 15.328125 5.515625 27.984375 \r\nQ 5.515625 40.671875 11.671875 48.328125 \r\nQ 17.828125 56 27.875 56 \r\nQ 33.9375 56 38.28125 53.609375 \r\nQ 42.625 51.21875 45.40625 46.390625 \r\nL 45.40625 54.6875 \r\nL 54.390625 54.6875 \r\nz\r\n\" id=\"DejaVuSans-103\"/>\r\n       <path d=\"M 32.171875 -5.078125 \r\nQ 28.375 -14.84375 24.75 -17.8125 \r\nQ 21.140625 -20.796875 15.09375 -20.796875 \r\nL 7.90625 -20.796875 \r\nL 7.90625 -13.28125 \r\nL 13.1875 -13.28125 \r\nQ 16.890625 -13.28125 18.9375 -11.515625 \r\nQ 21 -9.765625 23.484375 -3.21875 \r\nL 25.09375 0.875 \r\nL 2.984375 54.6875 \r\nL 12.5 54.6875 \r\nL 29.59375 11.921875 \r\nL 46.6875 54.6875 \r\nL 56.203125 54.6875 \r\nz\r\n\" id=\"DejaVuSans-121\"/>\r\n      </defs>\r\n      <g transform=\"translate(42.575 248.824219)scale(0.1 -0.1)\">\r\n       <use xlink:href=\"#DejaVuSans-83\"/>\r\n       <use x=\"63.476562\" xlink:href=\"#DejaVuSans-116\"/>\r\n       <use x=\"102.685547\" xlink:href=\"#DejaVuSans-114\"/>\r\n       <use x=\"143.798828\" xlink:href=\"#DejaVuSans-97\"/>\r\n       <use x=\"205.078125\" xlink:href=\"#DejaVuSans-116\"/>\r\n       <use x=\"244.287109\" xlink:href=\"#DejaVuSans-101\"/>\r\n       <use x=\"305.810547\" xlink:href=\"#DejaVuSans-103\"/>\r\n       <use x=\"369.287109\" xlink:href=\"#DejaVuSans-121\"/>\r\n      </g>\r\n     </g>\r\n    </g>\r\n    <g id=\"ytick_5\">\r\n     <g id=\"line2d_14\">\r\n      <g>\r\n       <use style=\"stroke:#000000;stroke-width:0.8;\" x=\"92.423438\" xlink:href=\"#m9dd5f557c6\" y=\"312.975\"/>\r\n      </g>\r\n     </g>\r\n     <g id=\"text_15\">\r\n      <!-- Simulation -->\r\n      <defs>\r\n       <path d=\"M 52 44.1875 \r\nQ 55.375 50.25 60.0625 53.125 \r\nQ 64.75 56 71.09375 56 \r\nQ 79.640625 56 84.28125 50.015625 \r\nQ 88.921875 44.046875 88.921875 33.015625 \r\nL 88.921875 0 \r\nL 79.890625 0 \r\nL 79.890625 32.71875 \r\nQ 79.890625 40.578125 77.09375 44.375 \r\nQ 74.3125 48.1875 68.609375 48.1875 \r\nQ 61.625 48.1875 57.5625 43.546875 \r\nQ 53.515625 38.921875 53.515625 30.90625 \r\nL 53.515625 0 \r\nL 44.484375 0 \r\nL 44.484375 32.71875 \r\nQ 44.484375 40.625 41.703125 44.40625 \r\nQ 38.921875 48.1875 33.109375 48.1875 \r\nQ 26.21875 48.1875 22.15625 43.53125 \r\nQ 18.109375 38.875 18.109375 30.90625 \r\nL 18.109375 0 \r\nL 9.078125 0 \r\nL 9.078125 54.6875 \r\nL 18.109375 54.6875 \r\nL 18.109375 46.1875 \r\nQ 21.1875 51.21875 25.484375 53.609375 \r\nQ 29.78125 56 35.6875 56 \r\nQ 41.65625 56 45.828125 52.96875 \r\nQ 50 49.953125 52 44.1875 \r\nz\r\n\" id=\"DejaVuSans-109\"/>\r\n       <path d=\"M 9.421875 75.984375 \r\nL 18.40625 75.984375 \r\nL 18.40625 0 \r\nL 9.421875 0 \r\nz\r\n\" id=\"DejaVuSans-108\"/>\r\n      </defs>\r\n      <g transform=\"translate(32.157813 316.774219)scale(0.1 -0.1)\">\r\n       <use xlink:href=\"#DejaVuSans-83\"/>\r\n       <use x=\"63.476562\" xlink:href=\"#DejaVuSans-105\"/>\r\n       <use x=\"91.259766\" xlink:href=\"#DejaVuSans-109\"/>\r\n       <use x=\"188.671875\" xlink:href=\"#DejaVuSans-117\"/>\r\n       <use x=\"252.050781\" xlink:href=\"#DejaVuSans-108\"/>\r\n       <use x=\"279.833984\" xlink:href=\"#DejaVuSans-97\"/>\r\n       <use x=\"341.113281\" xlink:href=\"#DejaVuSans-116\"/>\r\n       <use x=\"380.322266\" xlink:href=\"#DejaVuSans-105\"/>\r\n       <use x=\"408.105469\" xlink:href=\"#DejaVuSans-111\"/>\r\n       <use x=\"469.287109\" xlink:href=\"#DejaVuSans-110\"/>\r\n      </g>\r\n     </g>\r\n    </g>\r\n    <g id=\"ytick_6\">\r\n     <g id=\"line2d_15\">\r\n      <g>\r\n       <use style=\"stroke:#000000;stroke-width:0.8;\" x=\"92.423438\" xlink:href=\"#m9dd5f557c6\" y=\"380.925\"/>\r\n      </g>\r\n     </g>\r\n     <g id=\"text_16\">\r\n      <!-- Puzzle -->\r\n      <defs>\r\n       <path d=\"M 5.515625 54.6875 \r\nL 48.1875 54.6875 \r\nL 48.1875 46.484375 \r\nL 14.40625 7.171875 \r\nL 48.1875 7.171875 \r\nL 48.1875 0 \r\nL 4.296875 0 \r\nL 4.296875 8.203125 \r\nL 38.09375 47.515625 \r\nL 5.515625 47.515625 \r\nz\r\n\" id=\"DejaVuSans-122\"/>\r\n      </defs>\r\n      <g transform=\"translate(53.629688 384.724219)scale(0.1 -0.1)\">\r\n       <use xlink:href=\"#DejaVuSans-80\"/>\r\n       <use x=\"60.287109\" xlink:href=\"#DejaVuSans-117\"/>\r\n       <use x=\"123.666016\" xlink:href=\"#DejaVuSans-122\"/>\r\n       <use x=\"176.15625\" xlink:href=\"#DejaVuSans-122\"/>\r\n       <use x=\"228.646484\" xlink:href=\"#DejaVuSans-108\"/>\r\n       <use x=\"256.429688\" xlink:href=\"#DejaVuSans-101\"/>\r\n      </g>\r\n     </g>\r\n    </g>\r\n    <g id=\"ytick_7\">\r\n     <g id=\"line2d_16\">\r\n      <g>\r\n       <use style=\"stroke:#000000;stroke-width:0.8;\" x=\"92.423438\" xlink:href=\"#m9dd5f557c6\" y=\"448.875\"/>\r\n      </g>\r\n     </g>\r\n     <g id=\"text_17\">\r\n      <!-- Shooter -->\r\n      <defs>\r\n       <path d=\"M 54.890625 33.015625 \r\nL 54.890625 0 \r\nL 45.90625 0 \r\nL 45.90625 32.71875 \r\nQ 45.90625 40.484375 42.875 44.328125 \r\nQ 39.84375 48.1875 33.796875 48.1875 \r\nQ 26.515625 48.1875 22.3125 43.546875 \r\nQ 18.109375 38.921875 18.109375 30.90625 \r\nL 18.109375 0 \r\nL 9.078125 0 \r\nL 9.078125 75.984375 \r\nL 18.109375 75.984375 \r\nL 18.109375 46.1875 \r\nQ 21.34375 51.125 25.703125 53.5625 \r\nQ 30.078125 56 35.796875 56 \r\nQ 45.21875 56 50.046875 50.171875 \r\nQ 54.890625 44.34375 54.890625 33.015625 \r\nz\r\n\" id=\"DejaVuSans-104\"/>\r\n      </defs>\r\n      <g transform=\"translate(46.315625 452.674219)scale(0.1 -0.1)\">\r\n       <use xlink:href=\"#DejaVuSans-83\"/>\r\n       <use x=\"63.476562\" xlink:href=\"#DejaVuSans-104\"/>\r\n       <use x=\"126.855469\" xlink:href=\"#DejaVuSans-111\"/>\r\n       <use x=\"188.037109\" xlink:href=\"#DejaVuSans-111\"/>\r\n       <use x=\"249.21875\" xlink:href=\"#DejaVuSans-116\"/>\r\n       <use x=\"288.427734\" xlink:href=\"#DejaVuSans-101\"/>\r\n       <use x=\"349.951172\" xlink:href=\"#DejaVuSans-114\"/>\r\n      </g>\r\n     </g>\r\n    </g>\r\n    <g id=\"ytick_8\">\r\n     <g id=\"line2d_17\">\r\n      <g>\r\n       <use style=\"stroke:#000000;stroke-width:0.8;\" x=\"92.423438\" xlink:href=\"#m9dd5f557c6\" y=\"516.825\"/>\r\n      </g>\r\n     </g>\r\n     <g id=\"text_18\">\r\n      <!-- Sports -->\r\n      <defs>\r\n       <path d=\"M 18.109375 8.203125 \r\nL 18.109375 -20.796875 \r\nL 9.078125 -20.796875 \r\nL 9.078125 54.6875 \r\nL 18.109375 54.6875 \r\nL 18.109375 46.390625 \r\nQ 20.953125 51.265625 25.265625 53.625 \r\nQ 29.59375 56 35.59375 56 \r\nQ 45.5625 56 51.78125 48.09375 \r\nQ 58.015625 40.1875 58.015625 27.296875 \r\nQ 58.015625 14.40625 51.78125 6.484375 \r\nQ 45.5625 -1.421875 35.59375 -1.421875 \r\nQ 29.59375 -1.421875 25.265625 0.953125 \r\nQ 20.953125 3.328125 18.109375 8.203125 \r\nz\r\nM 48.6875 27.296875 \r\nQ 48.6875 37.203125 44.609375 42.84375 \r\nQ 40.53125 48.484375 33.40625 48.484375 \r\nQ 26.265625 48.484375 22.1875 42.84375 \r\nQ 18.109375 37.203125 18.109375 27.296875 \r\nQ 18.109375 17.390625 22.1875 11.75 \r\nQ 26.265625 6.109375 33.40625 6.109375 \r\nQ 40.53125 6.109375 44.609375 11.75 \r\nQ 48.6875 17.390625 48.6875 27.296875 \r\nz\r\n\" id=\"DejaVuSans-112\"/>\r\n       <path d=\"M 44.28125 53.078125 \r\nL 44.28125 44.578125 \r\nQ 40.484375 46.53125 36.375 47.5 \r\nQ 32.28125 48.484375 27.875 48.484375 \r\nQ 21.1875 48.484375 17.84375 46.4375 \r\nQ 14.5 44.390625 14.5 40.28125 \r\nQ 14.5 37.15625 16.890625 35.375 \r\nQ 19.28125 33.59375 26.515625 31.984375 \r\nL 29.59375 31.296875 \r\nQ 39.15625 29.25 43.1875 25.515625 \r\nQ 47.21875 21.78125 47.21875 15.09375 \r\nQ 47.21875 7.46875 41.1875 3.015625 \r\nQ 35.15625 -1.421875 24.609375 -1.421875 \r\nQ 20.21875 -1.421875 15.453125 -0.5625 \r\nQ 10.6875 0.296875 5.421875 2 \r\nL 5.421875 11.28125 \r\nQ 10.40625 8.6875 15.234375 7.390625 \r\nQ 20.0625 6.109375 24.8125 6.109375 \r\nQ 31.15625 6.109375 34.5625 8.28125 \r\nQ 37.984375 10.453125 37.984375 14.40625 \r\nQ 37.984375 18.0625 35.515625 20.015625 \r\nQ 33.0625 21.96875 24.703125 23.78125 \r\nL 21.578125 24.515625 \r\nQ 13.234375 26.265625 9.515625 29.90625 \r\nQ 5.8125 33.546875 5.8125 39.890625 \r\nQ 5.8125 47.609375 11.28125 51.796875 \r\nQ 16.75 56 26.8125 56 \r\nQ 31.78125 56 36.171875 55.265625 \r\nQ 40.578125 54.546875 44.28125 53.078125 \r\nz\r\n\" id=\"DejaVuSans-115\"/>\r\n      </defs>\r\n      <g transform=\"translate(53.367188 520.624219)scale(0.1 -0.1)\">\r\n       <use xlink:href=\"#DejaVuSans-83\"/>\r\n       <use x=\"63.476562\" xlink:href=\"#DejaVuSans-112\"/>\r\n       <use x=\"126.953125\" xlink:href=\"#DejaVuSans-111\"/>\r\n       <use x=\"188.134766\" xlink:href=\"#DejaVuSans-114\"/>\r\n       <use x=\"229.248047\" xlink:href=\"#DejaVuSans-116\"/>\r\n       <use x=\"268.457031\" xlink:href=\"#DejaVuSans-115\"/>\r\n      </g>\r\n     </g>\r\n    </g>\r\n    <g id=\"ytick_9\">\r\n     <g id=\"line2d_18\">\r\n      <g>\r\n       <use style=\"stroke:#000000;stroke-width:0.8;\" x=\"92.423438\" xlink:href=\"#m9dd5f557c6\" y=\"584.775\"/>\r\n      </g>\r\n     </g>\r\n     <g id=\"text_19\">\r\n      <!-- Racing -->\r\n      <g transform=\"translate(51.3875 588.574219)scale(0.1 -0.1)\">\r\n       <use xlink:href=\"#DejaVuSans-82\"/>\r\n       <use x=\"69.451172\" xlink:href=\"#DejaVuSans-97\"/>\r\n       <use x=\"130.730469\" xlink:href=\"#DejaVuSans-99\"/>\r\n       <use x=\"185.710938\" xlink:href=\"#DejaVuSans-105\"/>\r\n       <use x=\"213.494141\" xlink:href=\"#DejaVuSans-110\"/>\r\n       <use x=\"276.873047\" xlink:href=\"#DejaVuSans-103\"/>\r\n      </g>\r\n     </g>\r\n    </g>\r\n    <g id=\"ytick_10\">\r\n     <g id=\"line2d_19\">\r\n      <g>\r\n       <use style=\"stroke:#000000;stroke-width:0.8;\" x=\"92.423438\" xlink:href=\"#m9dd5f557c6\" y=\"652.725\"/>\r\n      </g>\r\n     </g>\r\n     <g id=\"text_20\">\r\n      <!-- BoardGames -->\r\n      <defs>\r\n       <path d=\"M 19.671875 34.8125 \r\nL 19.671875 8.109375 \r\nL 35.5 8.109375 \r\nQ 43.453125 8.109375 47.28125 11.40625 \r\nQ 51.125 14.703125 51.125 21.484375 \r\nQ 51.125 28.328125 47.28125 31.5625 \r\nQ 43.453125 34.8125 35.5 34.8125 \r\nz\r\nM 19.671875 64.796875 \r\nL 19.671875 42.828125 \r\nL 34.28125 42.828125 \r\nQ 41.5 42.828125 45.03125 45.53125 \r\nQ 48.578125 48.25 48.578125 53.8125 \r\nQ 48.578125 59.328125 45.03125 62.0625 \r\nQ 41.5 64.796875 34.28125 64.796875 \r\nz\r\nM 9.8125 72.90625 \r\nL 35.015625 72.90625 \r\nQ 46.296875 72.90625 52.390625 68.21875 \r\nQ 58.5 63.53125 58.5 54.890625 \r\nQ 58.5 48.1875 55.375 44.234375 \r\nQ 52.25 40.28125 46.1875 39.3125 \r\nQ 53.46875 37.75 57.5 32.78125 \r\nQ 61.53125 27.828125 61.53125 20.40625 \r\nQ 61.53125 10.640625 54.890625 5.3125 \r\nQ 48.25 0 35.984375 0 \r\nL 9.8125 0 \r\nz\r\n\" id=\"DejaVuSans-66\"/>\r\n      </defs>\r\n      <g transform=\"translate(20.878125 656.524219)scale(0.1 -0.1)\">\r\n       <use xlink:href=\"#DejaVuSans-66\"/>\r\n       <use x=\"68.603516\" xlink:href=\"#DejaVuSans-111\"/>\r\n       <use x=\"129.785156\" xlink:href=\"#DejaVuSans-97\"/>\r\n       <use x=\"191.064453\" xlink:href=\"#DejaVuSans-114\"/>\r\n       <use x=\"232.162109\" xlink:href=\"#DejaVuSans-100\"/>\r\n       <use x=\"295.638672\" xlink:href=\"#DejaVuSans-71\"/>\r\n       <use x=\"373.128906\" xlink:href=\"#DejaVuSans-97\"/>\r\n       <use x=\"434.408203\" xlink:href=\"#DejaVuSans-109\"/>\r\n       <use x=\"531.820312\" xlink:href=\"#DejaVuSans-101\"/>\r\n       <use x=\"593.34375\" xlink:href=\"#DejaVuSans-115\"/>\r\n      </g>\r\n     </g>\r\n    </g>\r\n    <g id=\"ytick_11\">\r\n     <g id=\"line2d_20\">\r\n      <g>\r\n       <use style=\"stroke:#000000;stroke-width:0.8;\" x=\"92.423438\" xlink:href=\"#m9dd5f557c6\" y=\"720.675\"/>\r\n      </g>\r\n     </g>\r\n     <g id=\"text_21\">\r\n      <!-- Fighting -->\r\n      <defs>\r\n       <path d=\"M 9.8125 72.90625 \r\nL 51.703125 72.90625 \r\nL 51.703125 64.59375 \r\nL 19.671875 64.59375 \r\nL 19.671875 43.109375 \r\nL 48.578125 43.109375 \r\nL 48.578125 34.8125 \r\nL 19.671875 34.8125 \r\nL 19.671875 0 \r\nL 9.8125 0 \r\nz\r\n\" id=\"DejaVuSans-70\"/>\r\n      </defs>\r\n      <g transform=\"translate(44.834375 724.474219)scale(0.1 -0.1)\">\r\n       <use xlink:href=\"#DejaVuSans-70\"/>\r\n       <use x=\"57.410156\" xlink:href=\"#DejaVuSans-105\"/>\r\n       <use x=\"85.193359\" xlink:href=\"#DejaVuSans-103\"/>\r\n       <use x=\"148.669922\" xlink:href=\"#DejaVuSans-104\"/>\r\n       <use x=\"212.048828\" xlink:href=\"#DejaVuSans-116\"/>\r\n       <use x=\"251.257812\" xlink:href=\"#DejaVuSans-105\"/>\r\n       <use x=\"279.041016\" xlink:href=\"#DejaVuSans-110\"/>\r\n       <use x=\"342.419922\" xlink:href=\"#DejaVuSans-103\"/>\r\n      </g>\r\n     </g>\r\n    </g>\r\n    <g id=\"ytick_12\">\r\n     <g id=\"line2d_21\">\r\n      <g>\r\n       <use style=\"stroke:#000000;stroke-width:0.8;\" x=\"92.423438\" xlink:href=\"#m9dd5f557c6\" y=\"788.625\"/>\r\n      </g>\r\n     </g>\r\n     <g id=\"text_22\">\r\n      <!-- Educational -->\r\n      <defs>\r\n       <path d=\"M 9.8125 72.90625 \r\nL 55.90625 72.90625 \r\nL 55.90625 64.59375 \r\nL 19.671875 64.59375 \r\nL 19.671875 43.015625 \r\nL 54.390625 43.015625 \r\nL 54.390625 34.71875 \r\nL 19.671875 34.71875 \r\nL 19.671875 8.296875 \r\nL 56.78125 8.296875 \r\nL 56.78125 0 \r\nL 9.8125 0 \r\nz\r\n\" id=\"DejaVuSans-69\"/>\r\n      </defs>\r\n      <g transform=\"translate(26.73125 792.424219)scale(0.1 -0.1)\">\r\n       <use xlink:href=\"#DejaVuSans-69\"/>\r\n       <use x=\"63.183594\" xlink:href=\"#DejaVuSans-100\"/>\r\n       <use x=\"126.660156\" xlink:href=\"#DejaVuSans-117\"/>\r\n       <use x=\"190.039062\" xlink:href=\"#DejaVuSans-99\"/>\r\n       <use x=\"245.019531\" xlink:href=\"#DejaVuSans-97\"/>\r\n       <use x=\"306.298828\" xlink:href=\"#DejaVuSans-116\"/>\r\n       <use x=\"345.507812\" xlink:href=\"#DejaVuSans-105\"/>\r\n       <use x=\"373.291016\" xlink:href=\"#DejaVuSans-111\"/>\r\n       <use x=\"434.472656\" xlink:href=\"#DejaVuSans-110\"/>\r\n       <use x=\"497.851562\" xlink:href=\"#DejaVuSans-97\"/>\r\n       <use x=\"559.130859\" xlink:href=\"#DejaVuSans-108\"/>\r\n      </g>\r\n     </g>\r\n    </g>\r\n    <g id=\"text_23\">\r\n     <!-- Count -->\r\n     <g transform=\"translate(14.798437 429.748437)rotate(-90)scale(0.1 -0.1)\">\r\n      <use xlink:href=\"#DejaVuSans-67\"/>\r\n      <use x=\"69.824219\" xlink:href=\"#DejaVuSans-111\"/>\r\n      <use x=\"131.005859\" xlink:href=\"#DejaVuSans-117\"/>\r\n      <use x=\"194.384766\" xlink:href=\"#DejaVuSans-110\"/>\r\n      <use x=\"257.763672\" xlink:href=\"#DejaVuSans-116\"/>\r\n     </g>\r\n    </g>\r\n   </g>\r\n   <g id=\"line2d_22\">\r\n    <path clip-path=\"url(#p58118c8563)\" d=\"M 0 0 \r\n\" style=\"fill:none;stroke:#424242;stroke-linecap:square;stroke-width:2.7;\"/>\r\n   </g>\r\n   <g id=\"line2d_23\">\r\n    <path clip-path=\"url(#p58118c8563)\" d=\"M 0 0 \r\n\" style=\"fill:none;stroke:#424242;stroke-linecap:square;stroke-width:2.7;\"/>\r\n   </g>\r\n   <g id=\"line2d_24\">\r\n    <path clip-path=\"url(#p58118c8563)\" d=\"M 0 0 \r\n\" style=\"fill:none;stroke:#424242;stroke-linecap:square;stroke-width:2.7;\"/>\r\n   </g>\r\n   <g id=\"line2d_25\">\r\n    <path clip-path=\"url(#p58118c8563)\" d=\"M 0 0 \r\n\" style=\"fill:none;stroke:#424242;stroke-linecap:square;stroke-width:2.7;\"/>\r\n   </g>\r\n   <g id=\"line2d_26\">\r\n    <path clip-path=\"url(#p58118c8563)\" d=\"M 0 0 \r\n\" style=\"fill:none;stroke:#424242;stroke-linecap:square;stroke-width:2.7;\"/>\r\n   </g>\r\n   <g id=\"line2d_27\">\r\n    <path clip-path=\"url(#p58118c8563)\" d=\"M 0 0 \r\n\" style=\"fill:none;stroke:#424242;stroke-linecap:square;stroke-width:2.7;\"/>\r\n   </g>\r\n   <g id=\"line2d_28\">\r\n    <path clip-path=\"url(#p58118c8563)\" d=\"M 0 0 \r\n\" style=\"fill:none;stroke:#424242;stroke-linecap:square;stroke-width:2.7;\"/>\r\n   </g>\r\n   <g id=\"line2d_29\">\r\n    <path clip-path=\"url(#p58118c8563)\" d=\"M 0 0 \r\n\" style=\"fill:none;stroke:#424242;stroke-linecap:square;stroke-width:2.7;\"/>\r\n   </g>\r\n   <g id=\"line2d_30\">\r\n    <path clip-path=\"url(#p58118c8563)\" d=\"M 0 0 \r\n\" style=\"fill:none;stroke:#424242;stroke-linecap:square;stroke-width:2.7;\"/>\r\n   </g>\r\n   <g id=\"line2d_31\">\r\n    <path clip-path=\"url(#p58118c8563)\" d=\"M 0 0 \r\n\" style=\"fill:none;stroke:#424242;stroke-linecap:square;stroke-width:2.7;\"/>\r\n   </g>\r\n   <g id=\"line2d_32\">\r\n    <path clip-path=\"url(#p58118c8563)\" d=\"M 0 0 \r\n\" style=\"fill:none;stroke:#424242;stroke-linecap:square;stroke-width:2.7;\"/>\r\n   </g>\r\n   <g id=\"line2d_33\">\r\n    <path clip-path=\"url(#p58118c8563)\" d=\"M 0 0 \r\n\" style=\"fill:none;stroke:#424242;stroke-linecap:square;stroke-width:2.7;\"/>\r\n   </g>\r\n   <g id=\"patch_15\">\r\n    <path d=\"M 92.423438 822.6 \r\nL 92.423438 7.2 \r\n\" style=\"fill:none;stroke:#000000;stroke-linecap:square;stroke-linejoin:miter;stroke-width:0.8;\"/>\r\n   </g>\r\n   <g id=\"patch_16\">\r\n    <path d=\"M 762.023438 822.6 \r\nL 762.023438 7.2 \r\n\" style=\"fill:none;stroke:#000000;stroke-linecap:square;stroke-linejoin:miter;stroke-width:0.8;\"/>\r\n   </g>\r\n   <g id=\"patch_17\">\r\n    <path d=\"M 92.423438 822.6 \r\nL 762.023438 822.6 \r\n\" style=\"fill:none;stroke:#000000;stroke-linecap:square;stroke-linejoin:miter;stroke-width:0.8;\"/>\r\n   </g>\r\n   <g id=\"patch_18\">\r\n    <path d=\"M 92.423438 7.2 \r\nL 762.023438 7.2 \r\n\" style=\"fill:none;stroke:#000000;stroke-linecap:square;stroke-linejoin:miter;stroke-width:0.8;\"/>\r\n   </g>\r\n  </g>\r\n </g>\r\n <defs>\r\n  <clipPath id=\"p58118c8563\">\r\n   <rect height=\"815.4\" width=\"669.6\" x=\"92.423438\" y=\"7.2\"/>\r\n  </clipPath>\r\n </defs>\r\n</svg>\r\n",
      "text/plain": "<Figure size 864x1080 with 1 Axes>"
     },
     "metadata": {
      "needs_background": "light"
     },
     "output_type": "display_data"
    }
   ],
   "source": [
    "g = all_genres_df.nlargest(columns=\"Count\", n = 50) \n",
    "plt.figure(figsize=(12,15)) \n",
    "ax = sns.barplot(data=g, x= \"Count\", y = \"Genre\") \n",
    "ax.set(ylabel = 'Count') \n",
    "plt.show()"
   ]
  },
  {
   "cell_type": "code",
   "execution_count": 9,
   "metadata": {},
   "outputs": [],
   "source": [
    "multilabel_binarizer = MultiLabelBinarizer()\n",
    "multilabel_binarizer.fit(games_new['genre_new'])\n",
    "\n",
    "# transform target variable\n",
    "y = multilabel_binarizer.transform(games_new['genre_new'])"
   ]
  },
  {
   "cell_type": "code",
   "execution_count": 0,
   "metadata": {},
   "outputs": [],
   "source": [
    "\n",
    "#f = pd.DataFrame(games_new)\n",
    "#i=0\n",
    "#for genre in list(all_genres.keys()):\n",
    "#    genreli = y[:,i]\n",
    "#    f[genre] = genreli \n",
    "#    i=i+1\n",
    "    \n",
    "#print(f)\n"
   ]
  },
  {
   "cell_type": "code",
   "execution_count": 10,
   "metadata": {},
   "outputs": [
    {
     "name": "stdout",
     "output_type": "stream",
     "text": "[[0 0 0 ... 0 0 1]\n [0 0 0 ... 0 0 1]\n [0 0 0 ... 0 0 1]\n ...\n [1 0 0 ... 0 0 1]\n [0 0 0 ... 0 0 0]\n [0 0 0 ... 0 0 0]]\n"
    }
   ],
   "source": [
    "print(y)"
   ]
  },
  {
   "cell_type": "code",
   "execution_count": 11,
   "metadata": {},
   "outputs": [],
   "source": [
    "# split dataset into training and validation set\n",
    "xtrain, xval, ytrain, yval = train_test_split(games_new['description'], y, test_size=0.2, random_state=9)"
   ]
  },
  {
   "cell_type": "code",
   "execution_count": 12,
   "metadata": {},
   "outputs": [],
   "source": [
    "tfidf_vectorizer = TfidfVectorizer(max_df=0.8, max_features=10000)"
   ]
  },
  {
   "cell_type": "code",
   "execution_count": 13,
   "metadata": {},
   "outputs": [
    {
     "name": "stdout",
     "output_type": "stream",
     "text": "age magic new mobil turn base fantasi rpg legion epic hero fight remnant ancient magic world welcom era mage warrior dragon form squad hero discov stori campaign mode defeat player unforgett pvp battl reach top arena tournament prove skill infam tomb horror grim lair easi enter hard leav aliv collect level legendari hero fight fast pace battl grand arena take pick dozen charact among kobold elv demon druid changel dragonkin archn dark descend upon ruin remnant world float void night anoth light beam sky fade devour unstopp demon legion yet still hope dragon propheci foretel true mage enter dark tower determin fate univers might chosen one age magic gameplay stori campaign explor vast age magic world pierc power light dark meet legendari hero fight epic battl terrifi enemi follow stori roland true mage quest dark tower step dark meet changel assassin sharazar stop noth get came pvp build ultim parti hero challeng player pvp arena daili prove hour tournament everi week fight way top win glori epic reward valiant fighter spoil legendari hero collect epic hero level gear power weapon armour upgrad abil rariti use differ strategi form dream team hero build strongest parti world fast pace battl lead parti quick tactic turn base epic battl grand arena visual stun everi choic count lot mode tomb horror valley treasur test limit battl power enemi guard uniqu reward join event face tricki charact even trickier abil test strength matter challeng join communiti dive age magic hero lore find inhabit world read stori learn class faction explor use item skill much facebook twitter youtub instagram discord travel era mage warrior dragon dive fantasi world turn base battl role play element explor excit stori collect magic hero fight epic boss domin pvp arena adventur call\n"
    }
   ],
   "source": [
    "print(xtrain[1])"
   ]
  },
  {
   "cell_type": "code",
   "execution_count": 14,
   "metadata": {},
   "outputs": [
    {
     "name": "stdout",
     "output_type": "stream",
     "text": "(0, 9246)\t0.17614837427073193\n  (0, 5844)\t0.0878833328437008\n  (0, 3401)\t0.2026099211762428\n  (0, 3441)\t0.11645402118655378\n  (0, 5938)\t0.251217017138399\n  (0, 2191)\t0.18950326399715717\n  (0, 8540)\t0.12709498766301666\n  (0, 7304)\t0.1780869632353911\n  (0, 2408)\t0.2009645530452638\n  (0, 870)\t0.21246386136946172\n  (0, 7709)\t0.13836585595617806\n  (0, 4469)\t0.13767677579196416\n  (0, 1373)\t0.10537807622389894\n  (0, 5841)\t0.14398756392927037\n  (0, 9305)\t0.17753588374478282\n  (0, 219)\t0.11047694347066216\n  (0, 2903)\t0.15017180689951584\n  (0, 3041)\t0.20613251698761362\n  (0, 6542)\t0.0714513539606688\n  (0, 8924)\t0.13974932749781696\n  (0, 8481)\t0.23653885865286942\n  (0, 7771)\t0.296173051091608\n  (0, 6108)\t0.11582530090951593\n  (0, 4090)\t0.15088576813157825\n  (0, 8946)\t0.14044343979569973\n  (0, 7699)\t0.19249714035683535\n  (0, 1653)\t0.20969584590772278\n  (0, 6030)\t0.1831799632959924\n  (0, 3502)\t0.10697894607652754\n  (0, 5612)\t0.17536549751233893\n  (0, 7724)\t0.1854712223044702\n  (0, 438)\t0.13203725552645768\n  (0, 94)\t0.10922221747664011\n  (0, 5405)\t0.14357695624937136\n  (0, 6930)\t0.1455390004477931\n  (0, 3486)\t0.09468888777291896\n"
    }
   ],
   "source": [
    "xtrain_tfidf = tfidf_vectorizer.fit_transform(xtrain)\n",
    "xval_tfidf = tfidf_vectorizer.transform(xval)\n",
    "print(xtrain_tfidf[1])"
   ]
  },
  {
   "cell_type": "code",
   "execution_count": 15,
   "metadata": {},
   "outputs": [
    {
     "name": "stdout",
     "output_type": "stream",
     "text": "(0, 2274)\t0.05007029144453772\n  (0, 3502)\t0.05444701991437905\n  (0, 5567)\t0.0892524098014486\n  (0, 7468)\t0.12188028655406662\n  (0, 261)\t0.0915289693598694\n  (0, 1757)\t0.15641669799952837\n  (0, 70)\t0.0805403842181172\n  (0, 8730)\t0.05837327932327627\n  (0, 7141)\t0.12072117764800422\n  (0, 2958)\t0.08903456616379733\n  (0, 4144)\t0.07539005691546843\n  (0, 1648)\t0.08593988636740238\n  (0, 2965)\t0.0538779573006851\n  (0, 9437)\t0.1818442489406068\n  (0, 683)\t0.057664936249252965\n  (0, 3101)\t0.17064569866064483\n  (0, 1598)\t0.05808940535637389\n  (0, 6826)\t0.3023637583451241\n  (0, 8407)\t0.12176118160626341\n  (0, 2005)\t0.15467979121893258\n  (0, 3815)\t0.11941658371854874\n  (0, 4982)\t0.04639589107365259\n  (0, 1690)\t0.09512497939347717\n  (0, 5993)\t0.07020859350128357\n  (0, 4278)\t0.10177036552297786\n  :\t:\n  (33443, 3089)\t0.01106219195337658\n  (33443, 8754)\t0.013223692864203974\n  (33443, 1355)\t0.028428567128541034\n  (33443, 8742)\t0.06473411549484552\n  (33443, 7052)\t0.12162368172050432\n  (33443, 2311)\t0.013559302611135998\n  (33443, 4019)\t0.015257012596591632\n  (33443, 3003)\t0.04620596745600629\n  (33443, 8997)\t0.023371169922560223\n  (33443, 6389)\t0.026474501191601413\n  (33443, 8391)\t0.016392421164718382\n  (33443, 5844)\t0.012026763698814455\n  (33443, 3441)\t0.03187327902273116\n  (33443, 5841)\t0.01970458277936597\n  (33443, 219)\t0.03023736242802658\n  (33443, 6542)\t0.03911224220745552\n  (33443, 3502)\t0.014639983072772493\n  (33443, 2965)\t0.028973941424819107\n  (33443, 4982)\t0.06237577933857583\n  (33443, 5612)\t0.07199588356270811\n  (33443, 94)\t0.059787891867427154\n  (33443, 2828)\t0.01872704303965883\n  (33443, 6930)\t0.019916895624114004\n  (33443, 1668)\t0.015865248054692076\n  (33443, 3486)\t0.04535334453699308\n"
    }
   ],
   "source": [
    "print(xtrain_tfidf)"
   ]
  },
  {
   "cell_type": "code",
   "execution_count": 16,
   "metadata": {},
   "outputs": [],
   "source": [
    "lr = LogisticRegression(max_iter=100000000)\n",
    "clf = OneVsRestClassifier(lr)"
   ]
  },
  {
   "cell_type": "code",
   "execution_count": 17,
   "metadata": {},
   "outputs": [
    {
     "data": {
      "text/plain": "OneVsRestClassifier(estimator=LogisticRegression(C=1.0, class_weight=None,\n                                                 dual=False, fit_intercept=True,\n                                                 intercept_scaling=1,\n                                                 l1_ratio=None,\n                                                 max_iter=100000000,\n                                                 multi_class='auto',\n                                                 n_jobs=None, penalty='l2',\n                                                 random_state=None,\n                                                 solver='lbfgs', tol=0.0001,\n                                                 verbose=0, warm_start=False),\n                    n_jobs=None)"
     },
     "execution_count": 17,
     "metadata": {},
     "output_type": "execute_result"
    }
   ],
   "source": [
    "# fit model on train data\n",
    "clf.fit(xtrain_tfidf, ytrain)"
   ]
  },
  {
   "cell_type": "code",
   "execution_count": 18,
   "metadata": {},
   "outputs": [],
   "source": [
    "# make predictions for validation set\n",
    "y_pred = clf.predict(xval_tfidf)"
   ]
  },
  {
   "cell_type": "code",
   "execution_count": 19,
   "metadata": {},
   "outputs": [
    {
     "data": {
      "text/plain": "array([0, 1, 0, 0, 0, 0, 0, 0, 0, 0, 0, 0])"
     },
     "execution_count": 19,
     "metadata": {},
     "output_type": "execute_result"
    }
   ],
   "source": [
    "y_pred[3]"
   ]
  },
  {
   "cell_type": "code",
   "execution_count": 20,
   "metadata": {},
   "outputs": [
    {
     "data": {
      "text/plain": "0.3249222674001435"
     },
     "execution_count": 20,
     "metadata": {},
     "output_type": "execute_result"
    }
   ],
   "source": [
    "from sklearn.metrics import accuracy_score\n",
    "accuracy_score(yval, y_pred)"
   ]
  },
  {
   "cell_type": "code",
   "execution_count": 21,
   "metadata": {},
   "outputs": [
    {
     "data": {
      "text/plain": "('Adventure',)"
     },
     "execution_count": 21,
     "metadata": {},
     "output_type": "execute_result"
    }
   ],
   "source": [
    "multilabel_binarizer.inverse_transform(y_pred)[3]"
   ]
  },
  {
   "cell_type": "code",
   "execution_count": 22,
   "metadata": {},
   "outputs": [
    {
     "data": {
      "text/plain": "0.592422960123463"
     },
     "execution_count": 22,
     "metadata": {},
     "output_type": "execute_result"
    }
   ],
   "source": [
    "f1_score(yval, y_pred, average=\"micro\")"
   ]
  },
  {
   "cell_type": "code",
   "execution_count": 24,
   "metadata": {},
   "outputs": [],
   "source": [
    "# predict probabilities\n",
    "y_pred_prob = clf.predict_proba(xval_tfidf)"
   ]
  },
  {
   "cell_type": "code",
   "execution_count": 25,
   "metadata": {},
   "outputs": [],
   "source": [
    "t = 0.3 # threshold value\n",
    "y_pred_new = (y_pred_prob >= t).astype(int)"
   ]
  },
  {
   "cell_type": "code",
   "execution_count": 26,
   "metadata": {},
   "outputs": [
    {
     "data": {
      "text/plain": "0.6527887501975036"
     },
     "execution_count": 26,
     "metadata": {},
     "output_type": "execute_result"
    }
   ],
   "source": [
    "# evaluate performance\n",
    "f1_score(yval, y_pred_new, average=\"micro\")"
   ]
  },
  {
   "cell_type": "code",
   "execution_count": 0,
   "metadata": {},
   "outputs": [],
   "source": [
    "#########################"
   ]
  },
  {
   "cell_type": "code",
   "execution_count": 27,
   "metadata": {},
   "outputs": [],
   "source": [
    "\n",
    "def infer_tags(q):\n",
    "    q_vec = tfidf_vectorizer.transform([q])\n",
    "    q_pred = clf.predict(q_vec)\n",
    "    return multilabel_binarizer.inverse_transform(q_pred)"
   ]
  },
  {
   "cell_type": "code",
   "execution_count": 30,
   "metadata": {},
   "outputs": [
    {
     "name": "stdout",
     "output_type": "stream",
     "text": "game:  the last shot \nPredicted genre:  [('Action',)]\nActual genre:  ['Action', 'Shooter'] \n\ngame:  gym days \nPredicted genre:  [('Adventure',)]\nActual genre:  ['Adventure'] \n\ngame:  cafeteria nipponica \nPredicted genre:  [('Simulation',)]\nActual genre:  ['Strategy', 'Simulation'] \n\ngame:  russian racing \nPredicted genre:  [('Racing',)]\nActual genre:  ['Racing'] \n\ngame:  gargolite \nPredicted genre:  [()]\nActual genre:  ['Action'] \n\ngame:  barbie as the island princess \nPredicted genre:  [('Adventure',)]\nActual genre:  ['Adventure'] \n\ngame:  shred downhill mountain biking \nPredicted genre:  [('Action',)]\nActual genre:  ['Action', 'Sports', 'Racing'] \n\ngame:  matthew borg game prototypes \nPredicted genre:  [()]\nActual genre:  ['Action', 'Adventure'] \n\ngame:  james pattersons womens murder club twice in a blue moon \nPredicted genre:  [()]\nActual genre:  ['Puzzle'] \n\ngame:  escape the humans \nPredicted genre:  [('Action',)]\nActual genre:  ['Action', 'Puzzle'] \n\ngame:  crystal quest classic \nPredicted genre:  [()]\nActual genre:  ['Action', 'Strategy'] \n\ngame:  mcpixel \nPredicted genre:  [('Puzzle',)]\nActual genre:  ['Action', 'Adventure', 'Puzzle'] \n\ngame:  subsiege \nPredicted genre:  [('Action', 'Strategy')]\nActual genre:  ['Strategy', 'RPG'] \n\ngame:  omega quintet \nPredicted genre:  [('Action',)]\nActual genre:  ['RPG'] \n\ngame:  juanito arcade mayhem \nPredicted genre:  [('Action',)]\nActual genre:  ['Action', 'Adventure'] \n\ngame:  bitcoin farm \nPredicted genre:  [()]\nActual genre:  ['Simulation'] \n\ngame:  forest mania \nPredicted genre:  [('Puzzle',)]\nActual genre:  ['Puzzle'] \n\ngame:  star portals \nPredicted genre:  [('Action',)]\nActual genre:  ['Action'] \n\ngame:  dont give up a cynical tale \nPredicted genre:  [('Adventure',)]\nActual genre:  ['Adventure', 'RPG'] \n\ngame:  only one arrow neatgames \nPredicted genre:  [()]\nActual genre:  ['Shooter'] \n\n"
    }
   ],
   "source": [
    "\n",
    "for i in range(20): \n",
    "  k = xval.sample(1).index[0] \n",
    "  print(\"game: \", games_new['name'][k], \"\\nPredicted genre: \", infer_tags(xval[k])), print(\"Actual genre: \",games_new['genre_new'][k], \"\\n\")"
   ]
  },
  {
   "cell_type": "code",
   "execution_count": null,
   "metadata": {},
   "outputs": [],
   "source": []
  },
  {
   "cell_type": "code",
   "execution_count": 0,
   "metadata": {},
   "outputs": [],
   "source": [
    "# using binary relevance\n",
    "from skmultilearn.problem_transform import BinaryRelevance\n",
    "from sklearn.naive_bayes import GaussianNB\n",
    "\n",
    "# initialize binary relevance multi-label classifier\n",
    "# with a gaussian naive bayes base classifier\n",
    "classifier = BinaryRelevance(GaussianNB())\n",
    "\n",
    "# train\n",
    "classifier.fit(x_train, y_train)\n",
    "\n",
    "# predict\n",
    "predictions = classifier.predict(x_test)\n",
    "\n",
    "# accuracy\n",
    "print(\"Accuracy = \",accuracy_score(y_test,predictions))\n",
    "print(\"\\n\")"
   ]
  },
  {
   "cell_type": "code",
   "execution_count": 0,
   "metadata": {},
   "outputs": [],
   "source": [
    "# get the first vector out (for the first document)\n",
    "first_vector_tfidfvectorizer=xtrain_tfidf[1]\n",
    "\n",
    "# place tf-idf values in a pandas data frame\n",
    "df = pd.DataFrame(first_vector_tfidfvectorizer.T.todense(), index=tfidf_vectorizer.get_feature_names(), columns=[\"tfidf\"])\n",
    "df.sort_values(by=[\"tfidf\"],ascending=False).head(20)\n"
   ]
  },
  {
   "cell_type": "code",
   "execution_count": 0,
   "metadata": {},
   "outputs": [],
   "source": [
    "LogReg_pipeline = Pipeline([\n",
    "                ('clf', OneVsRestClassifier(LogisticRegression(solver='sag'), n_jobs=-1)),\n",
    "            ])\n",
    "for category in categories:\n",
    "    print('**Processing {} comments...**'.format(category))\n",
    "    \n",
    "    # Training logistic regression model on train data\n",
    "    LogReg_pipeline.fit(x_train, train[category])\n",
    "    \n",
    "    # calculating test accuracy\n",
    "    prediction = LogReg_pipeline.predict(x_test)\n",
    "    print('Test accuracy is {}'.format(accuracy_score(test[category], prediction)))\n",
    "    print(\"\\n\")"
   ]
  },
  {
   "cell_type": "code",
   "execution_count": 0,
   "metadata": {},
   "outputs": [],
   "source": [
    "from sklearn.metrics import accuracy_score\n",
    "accuracy_score(yval, y_pred)"
   ]
  }
 ],
 "metadata": {
  "kernelspec": {
   "display_name": "Python 3",
   "language": "python",
   "name": "python3"
  },
  "language_info": {
   "codemirror_mode": {
    "name": "ipython",
    "version": 3
   },
   "file_extension": ".py",
   "mimetype": "text/x-python",
   "name": "python",
   "nbconvert_exporter": "python",
   "pygments_lexer": "ipython3",
   "version": "3.7.5-final"
  }
 },
 "nbformat": 4,
 "nbformat_minor": 4
}