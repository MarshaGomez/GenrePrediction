{
 "cells": [
  {
   "cell_type": "code",
   "execution_count": 1,
   "metadata": {
    "scrolled": true
   },
   "outputs": [
    {
     "data": {
      "text/html": [
       "<div>\n",
       "<style scoped>\n",
       "    .dataframe tbody tr th:only-of-type {\n",
       "        vertical-align: middle;\n",
       "    }\n",
       "\n",
       "    .dataframe tbody tr th {\n",
       "        vertical-align: top;\n",
       "    }\n",
       "\n",
       "    .dataframe thead th {\n",
       "        text-align: right;\n",
       "    }\n",
       "</style>\n",
       "<table border=\"1\" class=\"dataframe\">\n",
       "  <thead>\n",
       "    <tr style=\"text-align: right;\">\n",
       "      <th></th>\n",
       "      <th>id</th>\n",
       "      <th>name</th>\n",
       "      <th>description</th>\n",
       "      <th>genres</th>\n",
       "    </tr>\n",
       "  </thead>\n",
       "  <tbody>\n",
       "    <tr>\n",
       "      <th>0</th>\n",
       "      <td>28310</td>\n",
       "      <td>0 day attack on earth</td>\n",
       "      <td>seven days determine fate humanity begin hightech tokyo rubble vibrant new york ground halt city lights paris enveloped darkness despair join mankinds struggle massive invaders converge worlds major cities battles set actual areas modern metropolitan cities take flight one futuristic aircraft he...</td>\n",
       "      <td>['Shooter']</td>\n",
       "    </tr>\n",
       "    <tr>\n",
       "      <th>1</th>\n",
       "      <td>10235</td>\n",
       "      <td>0 day</td>\n",
       "      <td>freedom movement flight touch pad teleportation move city hunting enemies growing assortment weapons homemade spears assault rifles sneak armed targets catch guard maneuver full speed around bullets bat head distance take back control city terrorist infected help shape game give feedback work ma...</td>\n",
       "      <td>['Action', 'Adventure', 'Strategy', 'Indie']</td>\n",
       "    </tr>\n",
       "    <tr>\n",
       "      <th>2</th>\n",
       "      <td>386925</td>\n",
       "      <td>0 hour meltdown</td>\n",
       "      <td>built hour game jam power plant meltdown turn everything try stop meltdown timer</td>\n",
       "      <td>['Puzzle']</td>\n",
       "    </tr>\n",
       "    <tr>\n",
       "      <th>3</th>\n",
       "      <td>381643</td>\n",
       "      <td>0 lives left</td>\n",
       "      <td>play game lives left controls cloths tutorial</td>\n",
       "      <td>['Platformer']</td>\n",
       "    </tr>\n",
       "    <tr>\n",
       "      <th>4</th>\n",
       "      <td>379914</td>\n",
       "      <td>0 robert blaster391 arnold</td>\n",
       "      <td>puzzle platformer start controls visionmade hours ludum dare game jam theme start nothing</td>\n",
       "      <td>['Puzzle']</td>\n",
       "    </tr>\n",
       "  </tbody>\n",
       "</table>\n",
       "</div>"
      ],
      "text/plain": [
       "       id                        name  \\\n",
       "0   28310       0 day attack on earth   \n",
       "1   10235                       0 day   \n",
       "2  386925             0 hour meltdown   \n",
       "3  381643                0 lives left   \n",
       "4  379914  0 robert blaster391 arnold   \n",
       "\n",
       "                                                                                                                                                                                                                                                                                                   description  \\\n",
       "0  seven days determine fate humanity begin hightech tokyo rubble vibrant new york ground halt city lights paris enveloped darkness despair join mankinds struggle massive invaders converge worlds major cities battles set actual areas modern metropolitan cities take flight one futuristic aircraft he...   \n",
       "1  freedom movement flight touch pad teleportation move city hunting enemies growing assortment weapons homemade spears assault rifles sneak armed targets catch guard maneuver full speed around bullets bat head distance take back control city terrorist infected help shape game give feedback work ma...   \n",
       "2                                                                                                                                                                                                                             built hour game jam power plant meltdown turn everything try stop meltdown timer   \n",
       "3                                                                                                                                                                                                                                                                play game lives left controls cloths tutorial   \n",
       "4                                                                                                                                                                                                                    puzzle platformer start controls visionmade hours ludum dare game jam theme start nothing   \n",
       "\n",
       "                                         genres  \n",
       "0                                   ['Shooter']  \n",
       "1  ['Action', 'Adventure', 'Strategy', 'Indie']  \n",
       "2                                    ['Puzzle']  \n",
       "3                                ['Platformer']  \n",
       "4                                    ['Puzzle']  "
      ]
     },
     "execution_count": 1,
     "metadata": {},
     "output_type": "execute_result"
    }
   ],
   "source": [
    "import rawgpy\n",
    "import time\n",
    "import json\n",
    "import urllib.request\n",
    "from nt import listdir\n",
    "import os\n",
    "import re\n",
    "from os import path\n",
    "import pandas as pd\n",
    "import numpy as np\n",
    "import nltk\n",
    "import csv\n",
    "import matplotlib.pyplot as plt \n",
    "import seaborn as sns\n",
    "from tqdm import tqdm\n",
    "from sklearn.feature_extraction.text import TfidfVectorizer\n",
    "from sklearn.model_selection import train_test_split\n",
    "from sklearn.preprocessing import MultiLabelBinarizer\n",
    "from sklearn.linear_model import LogisticRegression\n",
    "# Binary Relevance\n",
    "from sklearn.multiclass import OneVsRestClassifier\n",
    "# Performance metric\n",
    "from sklearn.metrics import f1_score\n",
    "\n",
    "\n",
    "pd.set_option('display.max_colwidth', 300)\n",
    "meta = pd.read_csv(\"C:/Users/Matilde/Desktop/GitHub/datamin/genrePrediction/few-games.csv\", sep = ',' , header = None)\n",
    "\n",
    "meta.columns = [\"id\",\"name\",\"description\",\"genres\"]\n",
    "meta.head()"
   ]
  },
  {
   "cell_type": "code",
   "execution_count": 2,
   "metadata": {},
   "outputs": [
    {
     "data": {
      "text/html": [
       "<div>\n",
       "<style scoped>\n",
       "    .dataframe tbody tr th:only-of-type {\n",
       "        vertical-align: middle;\n",
       "    }\n",
       "\n",
       "    .dataframe tbody tr th {\n",
       "        vertical-align: top;\n",
       "    }\n",
       "\n",
       "    .dataframe thead th {\n",
       "        text-align: right;\n",
       "    }\n",
       "</style>\n",
       "<table border=\"1\" class=\"dataframe\">\n",
       "  <thead>\n",
       "    <tr style=\"text-align: right;\">\n",
       "      <th></th>\n",
       "      <th>id</th>\n",
       "      <th>name</th>\n",
       "      <th>description</th>\n",
       "      <th>genres</th>\n",
       "    </tr>\n",
       "  </thead>\n",
       "  <tbody>\n",
       "    <tr>\n",
       "      <th>0</th>\n",
       "      <td>28310</td>\n",
       "      <td>0 day attack on earth</td>\n",
       "      <td>seven days determine fate humanity begin hightech tokyo rubble vibrant new york ground halt city lights paris enveloped darkness despair join mankinds struggle massive invaders converge worlds major cities battles set actual areas modern metropolitan cities take flight one futuristic aircraft he...</td>\n",
       "      <td>['Shooter']</td>\n",
       "    </tr>\n",
       "    <tr>\n",
       "      <th>1</th>\n",
       "      <td>10235</td>\n",
       "      <td>0 day</td>\n",
       "      <td>freedom movement flight touch pad teleportation move city hunting enemies growing assortment weapons homemade spears assault rifles sneak armed targets catch guard maneuver full speed around bullets bat head distance take back control city terrorist infected help shape game give feedback work ma...</td>\n",
       "      <td>['Action', 'Adventure', 'Strategy', 'Indie']</td>\n",
       "    </tr>\n",
       "    <tr>\n",
       "      <th>2</th>\n",
       "      <td>386925</td>\n",
       "      <td>0 hour meltdown</td>\n",
       "      <td>built hour game jam power plant meltdown turn everything try stop meltdown timer</td>\n",
       "      <td>['Puzzle']</td>\n",
       "    </tr>\n",
       "    <tr>\n",
       "      <th>3</th>\n",
       "      <td>381643</td>\n",
       "      <td>0 lives left</td>\n",
       "      <td>play game lives left controls cloths tutorial</td>\n",
       "      <td>['Platformer']</td>\n",
       "    </tr>\n",
       "    <tr>\n",
       "      <th>4</th>\n",
       "      <td>379914</td>\n",
       "      <td>0 robert blaster391 arnold</td>\n",
       "      <td>puzzle platformer start controls visionmade hours ludum dare game jam theme start nothing</td>\n",
       "      <td>['Puzzle']</td>\n",
       "    </tr>\n",
       "  </tbody>\n",
       "</table>\n",
       "</div>"
      ],
      "text/plain": [
       "       id                        name  \\\n",
       "0   28310       0 day attack on earth   \n",
       "1   10235                       0 day   \n",
       "2  386925             0 hour meltdown   \n",
       "3  381643                0 lives left   \n",
       "4  379914  0 robert blaster391 arnold   \n",
       "\n",
       "                                                                                                                                                                                                                                                                                                   description  \\\n",
       "0  seven days determine fate humanity begin hightech tokyo rubble vibrant new york ground halt city lights paris enveloped darkness despair join mankinds struggle massive invaders converge worlds major cities battles set actual areas modern metropolitan cities take flight one futuristic aircraft he...   \n",
       "1  freedom movement flight touch pad teleportation move city hunting enemies growing assortment weapons homemade spears assault rifles sneak armed targets catch guard maneuver full speed around bullets bat head distance take back control city terrorist infected help shape game give feedback work ma...   \n",
       "2                                                                                                                                                                                                                             built hour game jam power plant meltdown turn everything try stop meltdown timer   \n",
       "3                                                                                                                                                                                                                                                                play game lives left controls cloths tutorial   \n",
       "4                                                                                                                                                                                                                    puzzle platformer start controls visionmade hours ludum dare game jam theme start nothing   \n",
       "\n",
       "                                         genres  \n",
       "0                                   ['Shooter']  \n",
       "1  ['Action', 'Adventure', 'Strategy', 'Indie']  \n",
       "2                                    ['Puzzle']  \n",
       "3                                ['Platformer']  \n",
       "4                                    ['Puzzle']  "
      ]
     },
     "execution_count": 2,
     "metadata": {},
     "output_type": "execute_result"
    }
   ],
   "source": [
    "games = pd.DataFrame(meta)\n",
    "games.head()"
   ]
  },
  {
   "cell_type": "code",
   "execution_count": 3,
   "metadata": {},
   "outputs": [
    {
     "data": {
      "text/plain": [
       "(32531, 5)"
      ]
     },
     "execution_count": 3,
     "metadata": {},
     "output_type": "execute_result"
    }
   ],
   "source": [
    "genres = [] \n",
    "genres1 = [] \n",
    "s1= ['']\n",
    "# extract genres\n",
    "for i in games['genres']: \n",
    "    a = list(i.replace(\"]\",'').replace('[','').replace(\"'\",'').replace(' ','').split(\",\"))\n",
    "    if a == s1:\n",
    "        genres.append(' ') \n",
    "    else:\n",
    "        genres.append(a)\n",
    "        genres1.append(a)\n",
    "\n",
    "# add to 'movies' dataframe  \n",
    "games['genre_new'] = genres\n",
    "games.shape"
   ]
  },
  {
   "cell_type": "code",
   "execution_count": 4,
   "metadata": {},
   "outputs": [
    {
     "data": {
      "text/html": [
       "<div>\n",
       "<style scoped>\n",
       "    .dataframe tbody tr th:only-of-type {\n",
       "        vertical-align: middle;\n",
       "    }\n",
       "\n",
       "    .dataframe tbody tr th {\n",
       "        vertical-align: top;\n",
       "    }\n",
       "\n",
       "    .dataframe thead th {\n",
       "        text-align: right;\n",
       "    }\n",
       "</style>\n",
       "<table border=\"1\" class=\"dataframe\">\n",
       "  <thead>\n",
       "    <tr style=\"text-align: right;\">\n",
       "      <th></th>\n",
       "      <th>id</th>\n",
       "      <th>name</th>\n",
       "      <th>description</th>\n",
       "      <th>genres</th>\n",
       "      <th>genre_new</th>\n",
       "    </tr>\n",
       "  </thead>\n",
       "  <tbody>\n",
       "    <tr>\n",
       "      <th>0</th>\n",
       "      <td>28310</td>\n",
       "      <td>0 day attack on earth</td>\n",
       "      <td>seven days determine fate humanity begin hightech tokyo rubble vibrant new york ground halt city lights paris enveloped darkness despair join mankinds struggle massive invaders converge worlds major cities battles set actual areas modern metropolitan cities take flight one futuristic aircraft he...</td>\n",
       "      <td>['Shooter']</td>\n",
       "      <td>[Shooter]</td>\n",
       "    </tr>\n",
       "    <tr>\n",
       "      <th>1</th>\n",
       "      <td>10235</td>\n",
       "      <td>0 day</td>\n",
       "      <td>freedom movement flight touch pad teleportation move city hunting enemies growing assortment weapons homemade spears assault rifles sneak armed targets catch guard maneuver full speed around bullets bat head distance take back control city terrorist infected help shape game give feedback work ma...</td>\n",
       "      <td>['Action', 'Adventure', 'Strategy', 'Indie']</td>\n",
       "      <td>[Action, Adventure, Strategy, Indie]</td>\n",
       "    </tr>\n",
       "    <tr>\n",
       "      <th>2</th>\n",
       "      <td>386925</td>\n",
       "      <td>0 hour meltdown</td>\n",
       "      <td>built hour game jam power plant meltdown turn everything try stop meltdown timer</td>\n",
       "      <td>['Puzzle']</td>\n",
       "      <td>[Puzzle]</td>\n",
       "    </tr>\n",
       "    <tr>\n",
       "      <th>3</th>\n",
       "      <td>381643</td>\n",
       "      <td>0 lives left</td>\n",
       "      <td>play game lives left controls cloths tutorial</td>\n",
       "      <td>['Platformer']</td>\n",
       "      <td>[Platformer]</td>\n",
       "    </tr>\n",
       "    <tr>\n",
       "      <th>4</th>\n",
       "      <td>379914</td>\n",
       "      <td>0 robert blaster391 arnold</td>\n",
       "      <td>puzzle platformer start controls visionmade hours ludum dare game jam theme start nothing</td>\n",
       "      <td>['Puzzle']</td>\n",
       "      <td>[Puzzle]</td>\n",
       "    </tr>\n",
       "    <tr>\n",
       "      <th>...</th>\n",
       "      <td>...</td>\n",
       "      <td>...</td>\n",
       "      <td>...</td>\n",
       "      <td>...</td>\n",
       "      <td>...</td>\n",
       "    </tr>\n",
       "    <tr>\n",
       "      <th>995</th>\n",
       "      <td>383913</td>\n",
       "      <td>a simple reflection</td>\n",
       "      <td>simple puzzle game objective make light beam reflect yellow objects music sovereign kevin macleod license</td>\n",
       "      <td>['Educational', 'Puzzle']</td>\n",
       "      <td>[Educational, Puzzle]</td>\n",
       "    </tr>\n",
       "    <tr>\n",
       "      <th>996</th>\n",
       "      <td>362125</td>\n",
       "      <td>a simple top down shooter</td>\n",
       "      <td>firstgame jam really enjoyed participating hope joy playing game created game makers toolkit game jam theme one simple top shooter one thing time moving shoot youre shooting move</td>\n",
       "      <td>['Shooter']</td>\n",
       "      <td>[Shooter]</td>\n",
       "    </tr>\n",
       "    <tr>\n",
       "      <th>997</th>\n",
       "      <td>371386</td>\n",
       "      <td>a sinister talealpha01</td>\n",
       "      <td>alpha build horror game working onthere sitll lot work dofeedback always welcomewhere return childhood village find mistry behind daughters death</td>\n",
       "      <td>['Adventure']</td>\n",
       "      <td>[Adventure]</td>\n",
       "    </tr>\n",
       "    <tr>\n",
       "      <th>998</th>\n",
       "      <td>358337</td>\n",
       "      <td>a sizeable friendship open alpha</td>\n",
       "      <td>player coop platformer player plays blocks adventure though unknown world using strengths cover weaknessesand together pass test long work together</td>\n",
       "      <td>['Platformer']</td>\n",
       "      <td>[Platformer]</td>\n",
       "    </tr>\n",
       "    <tr>\n",
       "      <th>999</th>\n",
       "      <td>360690</td>\n",
       "      <td>a slimes chance in hell</td>\n",
       "      <td>submission game makers toolkit jam play slime condemned depths hell determined escape means jumping mode movement demons constantly approaching journey becomes difficult would seem theme game jam one demonstrated game lack ability perform multiple actions may one thing time choose jumping placin...</td>\n",
       "      <td>['Platformer']</td>\n",
       "      <td>[Platformer]</td>\n",
       "    </tr>\n",
       "  </tbody>\n",
       "</table>\n",
       "<p>1000 rows × 5 columns</p>\n",
       "</div>"
      ],
      "text/plain": [
       "         id                              name  \\\n",
       "0     28310             0 day attack on earth   \n",
       "1     10235                             0 day   \n",
       "2    386925                   0 hour meltdown   \n",
       "3    381643                      0 lives left   \n",
       "4    379914        0 robert blaster391 arnold   \n",
       "..      ...                               ...   \n",
       "995  383913               a simple reflection   \n",
       "996  362125         a simple top down shooter   \n",
       "997  371386            a sinister talealpha01   \n",
       "998  358337  a sizeable friendship open alpha   \n",
       "999  360690           a slimes chance in hell   \n",
       "\n",
       "                                                                                                                                                                                                                                                                                                     description  \\\n",
       "0    seven days determine fate humanity begin hightech tokyo rubble vibrant new york ground halt city lights paris enveloped darkness despair join mankinds struggle massive invaders converge worlds major cities battles set actual areas modern metropolitan cities take flight one futuristic aircraft he...   \n",
       "1    freedom movement flight touch pad teleportation move city hunting enemies growing assortment weapons homemade spears assault rifles sneak armed targets catch guard maneuver full speed around bullets bat head distance take back control city terrorist infected help shape game give feedback work ma...   \n",
       "2                                                                                                                                                                                                                               built hour game jam power plant meltdown turn everything try stop meltdown timer   \n",
       "3                                                                                                                                                                                                                                                                  play game lives left controls cloths tutorial   \n",
       "4                                                                                                                                                                                                                      puzzle platformer start controls visionmade hours ludum dare game jam theme start nothing   \n",
       "..                                                                                                                                                                                                                                                                                                           ...   \n",
       "995                                                                                                                                                                                                    simple puzzle game objective make light beam reflect yellow objects music sovereign kevin macleod license   \n",
       "996                                                                                                                           firstgame jam really enjoyed participating hope joy playing game created game makers toolkit game jam theme one simple top shooter one thing time moving shoot youre shooting move   \n",
       "997                                                                                                                                                            alpha build horror game working onthere sitll lot work dofeedback always welcomewhere return childhood village find mistry behind daughters death   \n",
       "998                                                                                                                                                          player coop platformer player plays blocks adventure though unknown world using strengths cover weaknessesand together pass test long work together   \n",
       "999  submission game makers toolkit jam play slime condemned depths hell determined escape means jumping mode movement demons constantly approaching journey becomes difficult would seem theme game jam one demonstrated game lack ability perform multiple actions may one thing time choose jumping placin...   \n",
       "\n",
       "                                           genres  \\\n",
       "0                                     ['Shooter']   \n",
       "1    ['Action', 'Adventure', 'Strategy', 'Indie']   \n",
       "2                                      ['Puzzle']   \n",
       "3                                  ['Platformer']   \n",
       "4                                      ['Puzzle']   \n",
       "..                                            ...   \n",
       "995                     ['Educational', 'Puzzle']   \n",
       "996                                   ['Shooter']   \n",
       "997                                 ['Adventure']   \n",
       "998                                ['Platformer']   \n",
       "999                                ['Platformer']   \n",
       "\n",
       "                                genre_new  \n",
       "0                               [Shooter]  \n",
       "1    [Action, Adventure, Strategy, Indie]  \n",
       "2                                [Puzzle]  \n",
       "3                            [Platformer]  \n",
       "4                                [Puzzle]  \n",
       "..                                    ...  \n",
       "995                 [Educational, Puzzle]  \n",
       "996                             [Shooter]  \n",
       "997                           [Adventure]  \n",
       "998                          [Platformer]  \n",
       "999                          [Platformer]  \n",
       "\n",
       "[1000 rows x 5 columns]"
      ]
     },
     "execution_count": 4,
     "metadata": {},
     "output_type": "execute_result"
    }
   ],
   "source": [
    "games_new =  games[~(games['genre_new'] == ' ')]\n",
    "games_new.head(1000)"
   ]
  },
  {
   "cell_type": "code",
   "execution_count": 5,
   "metadata": {},
   "outputs": [
    {
     "data": {
      "text/plain": [
       "((32531, 5), (32531, 5))"
      ]
     },
     "execution_count": 5,
     "metadata": {},
     "output_type": "execute_result"
    }
   ],
   "source": [
    "games_new.shape, games.shape"
   ]
  },
  {
   "cell_type": "code",
   "execution_count": 6,
   "metadata": {},
   "outputs": [
    {
     "name": "stdout",
     "output_type": "stream",
     "text": [
      "19\n"
     ]
    }
   ],
   "source": [
    "all_genres = sum(genres1,[])\n",
    "\n",
    "\n",
    "print(len(set(all_genres)))"
   ]
  },
  {
   "cell_type": "code",
   "execution_count": 55,
   "metadata": {},
   "outputs": [
    {
     "name": "stdout",
     "output_type": "stream",
     "text": [
      "['Shooter', 'Action', 'Adventure', 'Strategy', 'Indie', 'Puzzle', 'Platformer', 'Educational', 'Casual', 'MassivelyMultiplayer', 'Simulation', 'RPG', 'Fighting', 'Arcade', 'BoardGames', 'Family', 'Sports', 'Racing', 'Card']\n"
     ]
    }
   ],
   "source": [
    "all_genres = nltk.FreqDist(all_genres) \n",
    "\n",
    "# create dataframe\n",
    "all_genres_df = pd.DataFrame({'Genre': list(all_genres.keys()), \n",
    "                              'Count': list(all_genres.values())})\n",
    "print(list(all_genres.keys()))"
   ]
  },
  {
   "cell_type": "code",
   "execution_count": 8,
   "metadata": {},
   "outputs": [
    {
     "data": {
      "image/png": "[encoded data removed]",
      "text/plain": [
       "<Figure size 864x1080 with 1 Axes>"
      ]
     },
     "metadata": {
      "needs_background": "light"
     },
     "output_type": "display_data"
    }
   ],
   "source": [
    "g = all_genres_df.nlargest(columns=\"Count\", n = 50) \n",
    "plt.figure(figsize=(12,15)) \n",
    "ax = sns.barplot(data=g, x= \"Count\", y = \"Genre\") \n",
    "ax.set(ylabel = 'Count') \n",
    "plt.show()"
   ]
  },
  {
   "cell_type": "code",
   "execution_count": null,
   "metadata": {},
   "outputs": [],
   "source": []
  },
  {
   "cell_type": "code",
   "execution_count": 9,
   "metadata": {},
   "outputs": [],
   "source": [
    "multilabel_binarizer = MultiLabelBinarizer()\n",
    "multilabel_binarizer.fit(games_new['genre_new'])\n",
    "\n",
    "# transform target variable\n",
    "y = multilabel_binarizer.transform(games_new['genre_new'])"
   ]
  },
  {
   "cell_type": "code",
   "execution_count": 73,
   "metadata": {},
   "outputs": [
    {
     "name": "stdout",
     "output_type": "stream",
     "text": [
      "           id                                                 name  \\\n",
      "0       28310                                0 day attack on earth   \n",
      "1       10235                                                0 day   \n",
      "2      386925                                      0 hour meltdown   \n",
      "3      381643                                         0 lives left   \n",
      "4      379914                           0 robert blaster391 arnold   \n",
      "...       ...                                                  ...   \n",
      "32526   46330  ne no kami the two princess knights of kyoto part 2   \n",
      "32527   13631         ne no kami the two princess knights of kyoto   \n",
      "32528  365570                                                 ne10   \n",
      "32529  377246                                                ne3no   \n",
      "32530   28165                                near death experience   \n",
      "\n",
      "                                                                                                                                                                                                                                                                                                       description  \\\n",
      "0      seven days determine fate humanity begin hightech tokyo rubble vibrant new york ground halt city lights paris enveloped darkness despair join mankinds struggle massive invaders converge worlds major cities battles set actual areas modern metropolitan cities take flight one futuristic aircraft he...   \n",
      "1      freedom movement flight touch pad teleportation move city hunting enemies growing assortment weapons homemade spears assault rifles sneak armed targets catch guard maneuver full speed around bullets bat head distance take back control city terrorist infected help shape game give feedback work ma...   \n",
      "2                                                                                                                                                                                                                                 built hour game jam power plant meltdown turn everything try stop meltdown timer   \n",
      "3                                                                                                                                                                                                                                                                    play game lives left controls cloths tutorial   \n",
      "4                                                                                                                                                                                                                        puzzle platformer start controls visionmade hours ludum dare game jam theme start nothing   \n",
      "...                                                                                                                                                                                                                                                                                                            ...   \n",
      "32526  note direct sequel kami two princess knights kyoto highly advise play part first proceeding kyoto shrouded silence ayakashi change course prepare invasion sudden turn events suddenly len drawing sword shinonome despite pleas len pays heed words childhood friend soon kill ill make sure ruka joins...   \n",
      "32527  kami romantic japanese yuri visual novel adventure unique feature kami use videos illustrate battles action dynamically changing pace tension dawn moonlight illuminates old capital enveloped fog guided fate bound thoughts maidens dance amid spiral despair beloved princess guardian knight overcom...   \n",
      "32528                                                                                                                                 frantic time trial first person shooter name game get many points possible fighting clock game design programming kyle harrison music stephen knudsen graphics kris hornseth   \n",
      "32529                                                                                                                                                                                                                          controlsleft right arrows move arrow change gravity restart level space start level   \n",
      "32530  near death experience defensless horror game puts mind car crash victim lost memory finds threatening unknown area player solve riddles try regain memory running dark forces note first level little bit difficult riddle pieces characters life photos angels scream strange sound youll hear level so...   \n",
      "\n",
      "                                             genres  \\\n",
      "0                                       ['Shooter']   \n",
      "1      ['Action', 'Adventure', 'Strategy', 'Indie']   \n",
      "2                                        ['Puzzle']   \n",
      "3                                    ['Platformer']   \n",
      "4                                        ['Puzzle']   \n",
      "...                                             ...   \n",
      "32526                       ['Adventure', 'Casual']   \n",
      "32527                       ['Adventure', 'Casual']   \n",
      "32528                                   ['Shooter']   \n",
      "32529                                    ['Puzzle']   \n",
      "32530                                     ['Indie']   \n",
      "\n",
      "                                  genre_new  Shooter  Action  Adventure  \\\n",
      "0                                 [Shooter]        0       0          0   \n",
      "1      [Action, Adventure, Strategy, Indie]        1       1          0   \n",
      "2                                  [Puzzle]        0       0          0   \n",
      "3                              [Platformer]        0       0          0   \n",
      "4                                  [Puzzle]        0       0          0   \n",
      "...                                     ...      ...     ...        ...   \n",
      "32526                   [Adventure, Casual]        0       1          0   \n",
      "32527                   [Adventure, Casual]        0       1          0   \n",
      "32528                             [Shooter]        0       0          0   \n",
      "32529                              [Puzzle]        0       0          0   \n",
      "32530                               [Indie]        0       0          0   \n",
      "\n",
      "       Strategy  Indie  ...  MassivelyMultiplayer  Simulation  RPG  Fighting  \\\n",
      "0             0      0  ...                     0           0    0         0   \n",
      "1             0      0  ...                     1           0    0         0   \n",
      "2             0      0  ...                     0           0    0         1   \n",
      "3             0      0  ...                     0           0    1         0   \n",
      "4             0      0  ...                     0           0    0         1   \n",
      "...         ...    ...  ...                   ...         ...  ...       ...   \n",
      "32526         0      0  ...                     0           0    0         0   \n",
      "32527         0      0  ...                     0           0    0         0   \n",
      "32528         0      0  ...                     0           0    0         0   \n",
      "32529         0      0  ...                     0           0    0         1   \n",
      "32530         0      0  ...                     1           0    0         0   \n",
      "\n",
      "       Arcade  BoardGames  Family  Sports  Racing  Card  \n",
      "0           0           0       1       0       0     0  \n",
      "1           0           0       0       0       0     1  \n",
      "2           0           0       0       0       0     0  \n",
      "3           0           0       0       0       0     0  \n",
      "4           0           0       0       0       0     0  \n",
      "...       ...         ...     ...     ...     ...   ...  \n",
      "32526       0           0       0       0       0     0  \n",
      "32527       0           0       0       0       0     0  \n",
      "32528       0           0       1       0       0     0  \n",
      "32529       0           0       0       0       0     0  \n",
      "32530       0           0       0       0       0     0  \n",
      "\n",
      "[32531 rows x 24 columns]\n"
     ]
    }
   ],
   "source": [
    "\n",
    "f = pd.DataFrame(games_new)\n",
    "i=0\n",
    "for genre in list(all_genres.keys()):\n",
    "    genreli = y[:,i]\n",
    "    f[genre] = genreli \n",
    "    i=i+1\n",
    "    \n",
    "print(f)\n"
   ]
  },
  {
   "cell_type": "code",
   "execution_count": 58,
   "metadata": {},
   "outputs": [
    {
     "name": "stdout",
     "output_type": "stream",
     "text": [
      "[[0 0 0 ... 0 0 0]\n",
      " [1 1 0 ... 0 0 1]\n",
      " [0 0 0 ... 0 0 0]\n",
      " ...\n",
      " [0 0 0 ... 0 0 0]\n",
      " [0 0 0 ... 0 0 0]\n",
      " [0 0 0 ... 0 0 0]]\n"
     ]
    }
   ],
   "source": [
    "print(y)"
   ]
  },
  {
   "cell_type": "code",
   "execution_count": 30,
   "metadata": {},
   "outputs": [],
   "source": [
    "# split dataset into training and validation set\n",
    "xtrain, xval, ytrain, yval = train_test_split(games_new['description'], y, test_size=0.2, random_state=9)"
   ]
  },
  {
   "cell_type": "code",
   "execution_count": 27,
   "metadata": {},
   "outputs": [],
   "source": [
    "tfidf_vectorizer = TfidfVectorizer(max_df=0.8, max_features=10000)"
   ]
  },
  {
   "cell_type": "code",
   "execution_count": 28,
   "metadata": {},
   "outputs": [
    {
     "name": "stdout",
     "output_type": "stream",
     "text": [
      "freedom movement flight touch pad teleportation move city hunting enemies growing assortment weapons homemade spears assault rifles sneak armed targets catch guard maneuver full speed around bullets bat head distance take back control city terrorist infected help shape game give feedback work make game want encourage read early access plans purchasing development continues scenarios features content added including indepth rts mode active cities customer feedback gets taken account decision making promise heard\n"
     ]
    }
   ],
   "source": [
    "print(xtrain[1])"
   ]
  },
  {
   "cell_type": "code",
   "execution_count": 36,
   "metadata": {},
   "outputs": [
    {
     "name": "stdout",
     "output_type": "stream",
     "text": [
      "  (0, 1982)\t0.07187131004022689\n",
      "  (0, 3448)\t0.06677940281978832\n",
      "  (0, 7859)\t0.1629901709787876\n",
      "  (0, 7719)\t0.09388313153657911\n",
      "  (0, 226)\t0.10117704111514818\n",
      "  (0, 4372)\t0.08546773068003266\n",
      "  (0, 9172)\t0.20635406910158047\n",
      "  (0, 9173)\t0.06760503851691882\n",
      "  (0, 7282)\t0.20756322814996403\n",
      "  (0, 5316)\t0.1387888011854875\n",
      "  (0, 6038)\t0.222562565136312\n",
      "  (0, 5379)\t0.21338327981683436\n",
      "  (0, 5043)\t0.25759748169809393\n",
      "  (0, 8884)\t0.34346330893079197\n",
      "  (0, 57)\t0.05402946218189156\n",
      "  (0, 90)\t0.07124856548376\n",
      "  (0, 8792)\t0.052602741924034024\n",
      "  (0, 9647)\t0.07077239241067924\n",
      "  (0, 3060)\t0.0814950854893938\n",
      "  (0, 3402)\t0.061786893533423204\n",
      "  (0, 6178)\t0.029397497564472193\n",
      "  (0, 9955)\t0.0969903820547059\n",
      "  (0, 200)\t0.062154398058011116\n",
      "  (0, 9497)\t0.054296958225851906\n",
      "  (0, 7909)\t0.0676953055281497\n",
      "  :\t:\n",
      "  (0, 3394)\t0.08672096043135787\n",
      "  (0, 6013)\t0.02895534200368714\n",
      "  (0, 113)\t0.05690138449377199\n",
      "  (0, 9108)\t0.0610836629454412\n",
      "  (0, 252)\t0.2415763656828083\n",
      "  (0, 2272)\t0.23148027389472145\n",
      "  (0, 45)\t0.07239357796460515\n",
      "  (0, 8429)\t0.05990741876538659\n",
      "  (0, 973)\t0.09750709225086494\n",
      "  (0, 3450)\t0.10589474908812799\n",
      "  (0, 8876)\t0.07351076626288734\n",
      "  (0, 81)\t0.03888300304263878\n",
      "  (0, 2066)\t0.05821785058598504\n",
      "  (0, 3029)\t0.04014529598312459\n",
      "  (0, 6640)\t0.09048873168185291\n",
      "  (0, 9068)\t0.06006450156394414\n",
      "  (0, 3497)\t0.037158307076787994\n",
      "  (0, 1734)\t0.04633311308322398\n",
      "  (0, 3817)\t0.057414856696290616\n",
      "  (0, 3449)\t0.07020229438996965\n",
      "  (0, 3812)\t0.06573664189882261\n",
      "  (0, 8865)\t0.13234702484073224\n",
      "  (0, 9501)\t0.04101408347613221\n",
      "  (0, 2896)\t0.05753197198144369\n",
      "  (0, 4440)\t0.08692221992530953\n"
     ]
    }
   ],
   "source": [
    "xtrain_tfidf = tfidf_vectorizer.fit_transform(xtrain)\n",
    "xval_tfidf = tfidf_vectorizer.transform(xval)\n",
    "print(xtrain_tfidf[1])"
   ]
  },
  {
   "cell_type": "code",
   "execution_count": 34,
   "metadata": {},
   "outputs": [
    {
     "data": {
      "text/html": [
       "<div>\n",
       "<style scoped>\n",
       "    .dataframe tbody tr th:only-of-type {\n",
       "        vertical-align: middle;\n",
       "    }\n",
       "\n",
       "    .dataframe tbody tr th {\n",
       "        vertical-align: top;\n",
       "    }\n",
       "\n",
       "    .dataframe thead th {\n",
       "        text-align: right;\n",
       "    }\n",
       "</style>\n",
       "<table border=\"1\" class=\"dataframe\">\n",
       "  <thead>\n",
       "    <tr style=\"text-align: right;\">\n",
       "      <th></th>\n",
       "      <th>tfidf</th>\n",
       "    </tr>\n",
       "  </thead>\n",
       "  <tbody>\n",
       "    <tr>\n",
       "      <th>tecmo</th>\n",
       "      <td>0.343463</td>\n",
       "    </tr>\n",
       "    <tr>\n",
       "      <th>koei</th>\n",
       "      <td>0.257597</td>\n",
       "    </tr>\n",
       "    <tr>\n",
       "      <th>alive</th>\n",
       "      <td>0.241576</td>\n",
       "    </tr>\n",
       "    <tr>\n",
       "      <th>dead</th>\n",
       "      <td>0.231480</td>\n",
       "    </tr>\n",
       "    <tr>\n",
       "      <th>ninja</th>\n",
       "      <td>0.222563</td>\n",
       "    </tr>\n",
       "    <tr>\n",
       "      <th>ltd</th>\n",
       "      <td>0.213383</td>\n",
       "    </tr>\n",
       "    <tr>\n",
       "      <th>registered</th>\n",
       "      <td>0.207563</td>\n",
       "    </tr>\n",
       "    <tr>\n",
       "      <th>trademark</th>\n",
       "      <td>0.206354</td>\n",
       "    </tr>\n",
       "    <tr>\n",
       "      <th>sega</th>\n",
       "      <td>0.162990</td>\n",
       "    </tr>\n",
       "    <tr>\n",
       "      <th>logo</th>\n",
       "      <td>0.138789</td>\n",
       "    </tr>\n",
       "    <tr>\n",
       "      <th>team</th>\n",
       "      <td>0.132347</td>\n",
       "    </tr>\n",
       "    <tr>\n",
       "      <th>data</th>\n",
       "      <td>0.128978</td>\n",
       "    </tr>\n",
       "    <tr>\n",
       "      <th>plus</th>\n",
       "      <td>0.127298</td>\n",
       "    </tr>\n",
       "    <tr>\n",
       "      <th>network</th>\n",
       "      <td>0.124714</td>\n",
       "    </tr>\n",
       "    <tr>\n",
       "      <th>playstation</th>\n",
       "      <td>0.116394</td>\n",
       "    </tr>\n",
       "    <tr>\n",
       "      <th>subject</th>\n",
       "      <td>0.114752</td>\n",
       "    </tr>\n",
       "    <tr>\n",
       "      <th>license</th>\n",
       "      <td>0.112961</td>\n",
       "    </tr>\n",
       "    <tr>\n",
       "      <th>fighting</th>\n",
       "      <td>0.105895</td>\n",
       "    </tr>\n",
       "    <tr>\n",
       "      <th>players</th>\n",
       "      <td>0.102391</td>\n",
       "    </tr>\n",
       "    <tr>\n",
       "      <th>akira</th>\n",
       "      <td>0.101177</td>\n",
       "    </tr>\n",
       "  </tbody>\n",
       "</table>\n",
       "</div>"
      ],
      "text/plain": [
       "                tfidf\n",
       "tecmo        0.343463\n",
       "koei         0.257597\n",
       "alive        0.241576\n",
       "dead         0.231480\n",
       "ninja        0.222563\n",
       "ltd          0.213383\n",
       "registered   0.207563\n",
       "trademark    0.206354\n",
       "sega         0.162990\n",
       "logo         0.138789\n",
       "team         0.132347\n",
       "data         0.128978\n",
       "plus         0.127298\n",
       "network      0.124714\n",
       "playstation  0.116394\n",
       "subject      0.114752\n",
       "license      0.112961\n",
       "fighting     0.105895\n",
       "players      0.102391\n",
       "akira        0.101177"
      ]
     },
     "execution_count": 34,
     "metadata": {},
     "output_type": "execute_result"
    }
   ],
   "source": [
    "# get the first vector out (for the first document)\n",
    "first_vector_tfidfvectorizer=xtrain_tfidf[1]\n",
    "\n",
    "# place tf-idf values in a pandas data frame\n",
    "df = pd.DataFrame(first_vector_tfidfvectorizer.T.todense(), index=tfidf_vectorizer.get_feature_names(), columns=[\"tfidf\"])\n",
    "df.sort_values(by=[\"tfidf\"],ascending=False).head(20)\n"
   ]
  },
  {
   "cell_type": "code",
   "execution_count": 16,
   "metadata": {},
   "outputs": [
    {
     "name": "stdout",
     "output_type": "stream",
     "text": [
      "  (0, 1460)\t0.1228904009754436\n",
      "  (0, 8226)\t0.08492038796554967\n",
      "  (0, 6912)\t0.10076585431092122\n",
      "  (0, 8556)\t0.12959746905465275\n",
      "  (0, 5367)\t0.10471752428296348\n",
      "  (0, 2606)\t0.09580162460977816\n",
      "  (0, 5324)\t0.06383329547235908\n",
      "  (0, 5060)\t0.1142058570347763\n",
      "  (0, 1493)\t0.15002665469226906\n",
      "  (0, 3812)\t0.08956480716004132\n",
      "  (0, 5447)\t0.04556461024831238\n",
      "  (0, 7914)\t0.05717063457478924\n",
      "  (0, 8865)\t0.06010668943869334\n",
      "  (0, 5847)\t0.12738863746067658\n",
      "  (0, 9776)\t0.11873324183632006\n",
      "  (0, 4265)\t0.10274004842150534\n",
      "  (0, 4854)\t0.06361303036394148\n",
      "  (0, 8301)\t0.09740887480881605\n",
      "  (0, 6380)\t0.06763012376166493\n",
      "  (0, 2750)\t0.10757663222969877\n",
      "  (0, 2847)\t0.08935181933999761\n",
      "  (0, 3597)\t0.07995468913476168\n",
      "  (0, 5161)\t0.2490918960831365\n",
      "  (0, 6191)\t0.09241965769321439\n",
      "  (0, 7437)\t0.11783887996235909\n",
      "  :\t:\n",
      "  (26023, 8297)\t0.09927098512733701\n",
      "  (26023, 4405)\t0.12113522552973433\n",
      "  (26023, 3166)\t0.16726312552259123\n",
      "  (26023, 757)\t0.15111324808440818\n",
      "  (26023, 6814)\t0.4016761170856961\n",
      "  (26023, 2069)\t0.11103137334309263\n",
      "  (26023, 5870)\t0.09319045893959353\n",
      "  (26023, 8448)\t0.10369002375552173\n",
      "  (26023, 3037)\t0.1219547323822956\n",
      "  (26023, 4442)\t0.11221379999419014\n",
      "  (26023, 3143)\t0.11223359243914131\n",
      "  (26023, 304)\t0.18429237926443204\n",
      "  (26023, 8285)\t0.11436967426143704\n",
      "  (26023, 3687)\t0.09213370583716735\n",
      "  (26023, 1933)\t0.09303710998263999\n",
      "  (26023, 6760)\t0.1053269606997126\n",
      "  (26023, 5229)\t0.08196491363098324\n",
      "  (26023, 1570)\t0.11447645421719531\n",
      "  (26023, 2269)\t0.13405997364925254\n",
      "  (26023, 8517)\t0.12291246966243609\n",
      "  (26023, 3790)\t0.07486761970757264\n",
      "  (26023, 3497)\t0.08853292666286128\n",
      "  (26023, 3597)\t0.13981795967478353\n",
      "  (26023, 9493)\t0.07523330439412987\n",
      "  (26023, 4973)\t0.10576691833911102\n"
     ]
    }
   ],
   "source": [
    "print(xtrain_tfidf)"
   ]
  },
  {
   "cell_type": "code",
   "execution_count": null,
   "metadata": {},
   "outputs": [],
   "source": [
    "LogReg_pipeline = Pipeline([\n",
    "                ('clf', OneVsRestClassifier(LogisticRegression(solver='sag'), n_jobs=-1)),\n",
    "            ])\n",
    "for category in categories:\n",
    "    print('**Processing {} comments...**'.format(category))\n",
    "    \n",
    "    # Training logistic regression model on train data\n",
    "    LogReg_pipeline.fit(x_train, train[category])\n",
    "    \n",
    "    # calculating test accuracy\n",
    "    prediction = LogReg_pipeline.predict(x_test)\n",
    "    print('Test accuracy is {}'.format(accuracy_score(test[category], prediction)))\n",
    "    print(\"\\n\")"
   ]
  },
  {
   "cell_type": "code",
   "execution_count": 17,
   "metadata": {},
   "outputs": [],
   "source": [
    "lr = LogisticRegression()\n",
    "clf = OneVsRestClassifier(lr)"
   ]
  },
  {
   "cell_type": "code",
   "execution_count": 18,
   "metadata": {},
   "outputs": [
    {
     "data": {
      "text/plain": [
       "OneVsRestClassifier(estimator=LogisticRegression(C=1.0, class_weight=None,\n",
       "                                                 dual=False, fit_intercept=True,\n",
       "                                                 intercept_scaling=1,\n",
       "                                                 l1_ratio=None, max_iter=100,\n",
       "                                                 multi_class='auto',\n",
       "                                                 n_jobs=None, penalty='l2',\n",
       "                                                 random_state=None,\n",
       "                                                 solver='lbfgs', tol=0.0001,\n",
       "                                                 verbose=0, warm_start=False),\n",
       "                    n_jobs=None)"
      ]
     },
     "execution_count": 18,
     "metadata": {},
     "output_type": "execute_result"
    }
   ],
   "source": [
    "# fit model on train data\n",
    "clf.fit(xtrain_tfidf, ytrain)"
   ]
  },
  {
   "cell_type": "code",
   "execution_count": 19,
   "metadata": {},
   "outputs": [],
   "source": [
    "# make predictions for validation set\n",
    "y_pred = clf.predict(xval_tfidf)"
   ]
  },
  {
   "cell_type": "code",
   "execution_count": 42,
   "metadata": {},
   "outputs": [
    {
     "data": {
      "text/plain": [
       "0.2094667281389273"
      ]
     },
     "execution_count": 42,
     "metadata": {},
     "output_type": "execute_result"
    }
   ],
   "source": [
    "from sklearn.metrics import accuracy_score\n",
    "accuracy_score(yval, y_pred)"
   ]
  },
  {
   "cell_type": "code",
   "execution_count": null,
   "metadata": {},
   "outputs": [],
   "source": [
    "# using binary relevance\n",
    "from skmultilearn.problem_transform import BinaryRelevance\n",
    "from sklearn.naive_bayes import GaussianNB\n",
    "\n",
    "# initialize binary relevance multi-label classifier\n",
    "# with a gaussian naive bayes base classifier\n",
    "classifier = BinaryRelevance(GaussianNB())\n",
    "\n",
    "# train\n",
    "classifier.fit(x_train, y_train)\n",
    "\n",
    "# predict\n",
    "predictions = classifier.predict(x_test)\n",
    "\n",
    "# accuracy\n",
    "print(\"Accuracy = \",accuracy_score(y_test,predictions))\n",
    "print(\"\\n\")"
   ]
  },
  {
   "cell_type": "code",
   "execution_count": 20,
   "metadata": {},
   "outputs": [
    {
     "data": {
      "text/plain": [
       "array([0, 0, 0, 0, 0, 0, 0, 0, 0, 0, 0, 1, 0, 0, 0, 0, 0, 0, 0])"
      ]
     },
     "execution_count": 20,
     "metadata": {},
     "output_type": "execute_result"
    }
   ],
   "source": [
    "y_pred[3]"
   ]
  },
  {
   "cell_type": "code",
   "execution_count": 21,
   "metadata": {},
   "outputs": [
    {
     "data": {
      "text/plain": [
       "('Platformer',)"
      ]
     },
     "execution_count": 21,
     "metadata": {},
     "output_type": "execute_result"
    }
   ],
   "source": [
    "multilabel_binarizer.inverse_transform(y_pred)[3]"
   ]
  },
  {
   "cell_type": "code",
   "execution_count": 22,
   "metadata": {},
   "outputs": [
    {
     "data": {
      "text/plain": [
       "0.5353973168214655"
      ]
     },
     "execution_count": 22,
     "metadata": {},
     "output_type": "execute_result"
    }
   ],
   "source": [
    "f1_score(yval, y_pred, average=\"micro\")"
   ]
  },
  {
   "cell_type": "code",
   "execution_count": 44,
   "metadata": {},
   "outputs": [],
   "source": [
    "# predict probabilities\n",
    "y_pred_prob = clf.predict_proba(xval_tfidf)"
   ]
  },
  {
   "cell_type": "code",
   "execution_count": 52,
   "metadata": {},
   "outputs": [],
   "source": [
    "t = 0.3 # threshold value\n",
    "y_pred_new = (y_pred_prob >= t).astype(int)"
   ]
  },
  {
   "cell_type": "code",
   "execution_count": 50,
   "metadata": {},
   "outputs": [
    {
     "data": {
      "text/plain": [
       "0.5353973168214655"
      ]
     },
     "execution_count": 50,
     "metadata": {},
     "output_type": "execute_result"
    }
   ],
   "source": [
    "# evaluate performance\n",
    "f1_score(yval, y_pred_new, average=\"micro\")\n",
    "\n",
    "\n",
    "\n"
   ]
  },
  {
   "cell_type": "code",
   "execution_count": 51,
   "metadata": {},
   "outputs": [
    {
     "data": {
      "text/plain": [
       "0.2094667281389273"
      ]
     },
     "execution_count": 51,
     "metadata": {},
     "output_type": "execute_result"
    }
   ],
   "source": [
    "from sklearn.metrics import accuracy_score\n",
    "accuracy_score(yval, y_pred)"
   ]
  },
  {
   "cell_type": "code",
   "execution_count": null,
   "metadata": {},
   "outputs": [],
   "source": []
  },
  {
   "cell_type": "code",
   "execution_count": null,
   "metadata": {},
   "outputs": [],
   "source": []
  }
 ],
 "metadata": {
  "kernelspec": {
   "display_name": "Python 3",
   "language": "python",
   "name": "python3"
  },
  "language_info": {
   "codemirror_mode": {
    "name": "ipython",
    "version": 3
   },
   "file_extension": ".py",
   "mimetype": "text/x-python",
   "name": "python",
   "nbconvert_exporter": "python",
   "pygments_lexer": "ipython3",
   "version": "3.7.5"
  }
 },
 "nbformat": 4,
 "nbformat_minor": 4
}
